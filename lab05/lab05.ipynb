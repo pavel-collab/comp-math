{
 "cells": [
  {
   "cell_type": "markdown",
   "metadata": {},
   "source": [
    "# Лабораторная работа №5 по вычислительной математике\n",
    "## Вычисление определенных интегралов квадратурами Ньютона-Котеса. Метод Рунге.\n",
    "### Выполнил Филиппенко Павел -- студент группы Б01-009"
   ]
  },
  {
   "cell_type": "markdown",
   "metadata": {},
   "source": [
    "##### Задание VII 9.5 д)"
   ]
  },
  {
   "cell_type": "code",
   "execution_count": 80,
   "metadata": {},
   "outputs": [],
   "source": [
    "import numpy as np\n",
    "import matplotlib.pyplot as plt"
   ]
  },
  {
   "cell_type": "code",
   "execution_count": 81,
   "metadata": {},
   "outputs": [],
   "source": [
    "x = np.array([0, 0.125, 0.25, 0.375, 0.5, 0.625, 0.75, 0.875, 1])\n",
    "f = np.array([0.0, 0.124670, 0.247234, 0.364902, 0.473112, 0.563209, 0.616193, 0.579699, 0.0])"
   ]
  },
  {
   "cell_type": "code",
   "execution_count": 82,
   "metadata": {},
   "outputs": [
    {
     "data": {
      "text/plain": [
       "<matplotlib.collections.PathCollection at 0x7f31e9461f40>"
      ]
     },
     "execution_count": 82,
     "metadata": {},
     "output_type": "execute_result"
    },
    {
     "data": {
      "image/png": "[encoded data removed]",
      "text/plain": [
       "<Figure size 432x288 with 1 Axes>"
      ]
     },
     "metadata": {
      "needs_background": "light"
     },
     "output_type": "display_data"
    }
   ],
   "source": [
    "plt.scatter(x, f)"
   ]
  },
  {
   "cell_type": "code",
   "execution_count": 83,
   "metadata": {},
   "outputs": [],
   "source": [
    "# Внимание, данные функции работают только в случае РАВНОМЕРНОЙ сетки!\n",
    "# Функции вычисления определенного интеграла с использованием квадратур Ньютона-Котеса\n",
    "\n",
    "# Метод трапеций\n",
    "# x, y -- узлы сетки и значения функции в этих узлах\n",
    "# r    -- scaling factor; позволяет увеличивать имеющийся шаг сетки (см уточнение результата по правилу Рунге) \n",
    "def TrpapezMthd(x, y, r=1) -> float:\n",
    "    res = 0\n",
    "    # изначально задаем стандартный шаг\n",
    "    h = x[1] - x[0]\n",
    "    N = np.shape(x)[0]\n",
    "    # в случае если задан параметр r, в цикле увеличиваем шаг, а так же увеличиваем шаг сетки\n",
    "    for i in range(0, N-r, r):\n",
    "        res += ((f[i] + f[i+r]) / 2) * h*r\n",
    "    return res\n",
    "\n",
    "# Метод Симпсона\n",
    "def SympsonMthd(x, y) -> float:\n",
    "    res = 0\n",
    "    h = x[1] - x[0] \n",
    "    N = np.shape(x)[0]\n",
    "    for i in range(0, N - 2, 2):\n",
    "        res += ((f[i] + 4*f[i+1] + f[i+2]) / 6) * h*2\n",
    "    return res"
   ]
  },
  {
   "cell_type": "markdown",
   "metadata": {},
   "source": [
    "Метод Рунге-Ромберга-Ричардсона позволяет получить более высокий порядок\n",
    "точности без значительного увеличения числа арифметических действий. Точность можно повысить, вычисляя\n",
    "значения интеграла при различных значениях шага сетки $rh$ ($r = 1, 2, \\dots$).\n",
    "\n",
    "Пусть $I$ -- значение итеграла, $I_h$ -- значение, полученное численно на сетке с шагом $h$. Тогда\n",
    "погрешность вычисления можно записать следующим образом\n",
    "$$I - I_h = \\psi_h h^p + o(h^{p+1})$$\n",
    "\n",
    "где $p$ -- порядок точности квадратуры, $\\psi_h h^p$ -- главный член погрешности. Увеличим шаг сетки в\n",
    "$r$ раз и получим\n",
    "$$I - I_{rh} = \\psi_{rh} (rh)^p + o(h^{p+1})$$\n",
    "\n",
    "при малых $h$ можем считать, что $\\psi_h \\approx \\psi_{rh} = \\psi$, тогда\n",
    "\n",
    "$$I_h - I_{rh} = h^p (r^p - 1) \\psi$$\n",
    "$$\\psi h^p = \\frac{I_h - I_{rh}}{(r^p - 1)}$$\n",
    "\n",
    "Таким образом, уточняя главный член погрешности, мы можем уточнить численное значение интеграла\n",
    "\n",
    "$$I = I_h + \\psi h^p +o(h^{p+1}) \\approx I_h + \\psi h^p$$\n",
    "$$I \\approx \\frac{r^p I_h - I_{rh}}{r^p - 1}$$"
   ]
  },
  {
   "cell_type": "markdown",
   "metadata": {},
   "source": [
    "_Note:_ в данной работе для вычисления значения определенного интеграла мы используем формулу трапеции.\n",
    "Это формула 2 порядка точности, поэтому $p = 2$."
   ]
  },
  {
   "cell_type": "code",
   "execution_count": 84,
   "metadata": {},
   "outputs": [
    {
     "name": "stdout",
     "output_type": "stream",
     "text": [
      "====================================================================================================\n",
      "Значение интеграла с обычным шагом сетки \n",
      "Ih =  0.371127375\n",
      "====================================================================================================\n",
      "Значение интеграла с удвоенным шагом сетки \n",
      "I2h =  0.33413475\n",
      "====================================================================================================\n",
      "Значение интеграла, уточненное методом Рунге \n",
      "I =  0.38345824999999994\n",
      "====================================================================================================\n",
      "Значение интеграла, посчитанное методом Симпсона \n",
      "Is =  0.38345825\n",
      "====================================================================================================\n",
      "Расхождение значений, полученных методом Симпсона и методом трапеций \n",
      "eps =  0.012330875000000019\n",
      "====================================================================================================\n",
      "Расхождение значений, полученных методом Симпсона и методом Рунге \n",
      "eps =  5.551115123125783e-17\n",
      "====================================================================================================\n"
     ]
    }
   ],
   "source": [
    "p = 2\n",
    "r = 2\n",
    "\n",
    "# Вычислим численное значение интеграла с обычным шагом сетки\n",
    "Ih  = TrpapezMthd(x, f)\n",
    "# Вычислим численное значение интеграла с удвоенным шагом сетки\n",
    "Irh = TrpapezMthd(x, f, r)\n",
    "\n",
    "# вычислим уточненное значение интеграла\n",
    "I = (r**p * Ih - Irh)/(r**p - 1)\n",
    "Is = SympsonMthd(x, f)\n",
    "eps = abs(Is - I)\n",
    "\n",
    "print(\"=\"*100)\n",
    "print(\"Значение интеграла с обычным шагом сетки \\nIh = \", Ih)\n",
    "print(\"=\"*100)\n",
    "print(\"Значение интеграла с удвоенным шагом сетки \\nI2h = \", Irh)\n",
    "print(\"=\"*100)\n",
    "print(\"Значение интеграла, уточненное методом Рунге \\nI = \", I)\n",
    "print(\"=\"*100)\n",
    "print(\"Значение интеграла, посчитанное методом Симпсона \\nIs = \", Is)\n",
    "print(\"=\"*100)\n",
    "print(\"Расхождение значений, полученных методом Симпсона и методом трапеций \\neps = \", abs(Ih - Is))\n",
    "print(\"=\"*100)\n",
    "print(\"Расхождение значений, полученных методом Симпсона и методом Рунге \\neps = \", eps)\n",
    "print(\"=\"*100)"
   ]
  },
  {
   "cell_type": "markdown",
   "metadata": {},
   "source": [
    "# Вывод:\n",
    "Как видно, для получения более точного численного значения определенного интеграла, не обязательно использовать методы\n",
    "с высоким порядком точности. Метод уточнения Рунге позволяет получить ответ с примерно такой же точностью, что и при использовании\n",
    "метода Симпсона (отличие в ответах порядка $\\varepsilon \\sim 10^{-17}$)."
   ]
  }
 ],
 "metadata": {
  "kernelspec": {
   "display_name": "Python 3.8.10 64-bit",
   "language": "python",
   "name": "python3"
  },
  "language_info": {
   "codemirror_mode": {
    "name": "ipython",
    "version": 3
   },
   "file_extension": ".py",
   "mimetype": "text/x-python",
   "name": "python",
   "nbconvert_exporter": "python",
   "pygments_lexer": "ipython3",
   "version": "3.8.10"
  },
  "orig_nbformat": 4,
  "vscode": {
   "interpreter": {
    "hash": "916dbcbb3f70747c44a77c7bcd40155683ae19c65e1c03b4aa3499c5328201f1"
   }
  }
 },
 "nbformat": 4,
 "nbformat_minor": 2
}

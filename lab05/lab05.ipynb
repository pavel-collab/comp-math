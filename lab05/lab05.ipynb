{
 "cells": [
  {
   "cell_type": "code",
   "execution_count": 39,
   "metadata": {},
   "outputs": [],
   "source": [
    "import numpy as np\n",
    "import matplotlib.pyplot as plt"
   ]
  },
  {
   "cell_type": "code",
   "execution_count": 40,
   "metadata": {},
   "outputs": [],
   "source": [
    "x = np.array([0, 0.125, 0.25, 0.375, 0.5, 0.625, 0.75, 0.875, 1])\n",
    "f = np.array([\n",
    "    0.0, 0.021470, 0.293050, 0.494105, 0.541341,\n",
    "    0.516855, 0.468617, 0.416531, 0.367879\n",
    "])"
   ]
  },
  {
   "cell_type": "code",
   "execution_count": 41,
   "metadata": {},
   "outputs": [
    {
     "data": {
      "text/plain": [
       "<matplotlib.collections.PathCollection at 0x7f31e96f3940>"
      ]
     },
     "execution_count": 41,
     "metadata": {},
     "output_type": "execute_result"
    },
    {
     "data": {
      "image/png": "[encoded data removed]",
      "text/plain": [
       "<Figure size 432x288 with 1 Axes>"
      ]
     },
     "metadata": {
      "needs_background": "light"
     },
     "output_type": "display_data"
    }
   ],
   "source": [
    "plt.scatter(x, f)"
   ]
  },
  {
   "cell_type": "code",
   "execution_count": 46,
   "metadata": {},
   "outputs": [],
   "source": [
    "def TrpapezMthd(x, y) -> float:\n",
    "    res = 0\n",
    "    for i in range(1, np.shape(x)[0]):\n",
    "        h_i = x[i] - x[i-1]\n",
    "        res += ((f[i] + f[i-1]) / 2) * h_i\n",
    "    return res\n",
    "\n",
    "# работает только на равномерной сетке\n",
    "def SympsonMthd(x, y) -> float:\n",
    "    res = 0\n",
    "    h = x[1] - x[0] \n",
    "    for i in range(0, np.shape(x)[0] - 2, 2):\n",
    "        res += ((f[i] + 4*f[i+1] + f[i+2]) / 6) * h*2\n",
    "    return res"
   ]
  },
  {
   "cell_type": "code",
   "execution_count": 47,
   "metadata": {},
   "outputs": [
    {
     "name": "stdout",
     "output_type": "stream",
     "text": [
      "0.3669885625\n",
      "0.36540579166666665\n"
     ]
    }
   ],
   "source": [
    "print(TrpapezMthd(x, f))\n",
    "print(SympsonMthd(x, f))"
   ]
  }
 ],
 "metadata": {
  "kernelspec": {
   "display_name": "Python 3.8.10 64-bit",
   "language": "python",
   "name": "python3"
  },
  "language_info": {
   "codemirror_mode": {
    "name": "ipython",
    "version": 3
   },
   "file_extension": ".py",
   "mimetype": "text/x-python",
   "name": "python",
   "nbconvert_exporter": "python",
   "pygments_lexer": "ipython3",
   "version": "3.8.10"
  },
  "orig_nbformat": 4,
  "vscode": {
   "interpreter": {
    "hash": "916dbcbb3f70747c44a77c7bcd40155683ae19c65e1c03b4aa3499c5328201f1"
   }
  }
 },
 "nbformat": 4,
 "nbformat_minor": 2
}

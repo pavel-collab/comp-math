{
 "cells": [
  {
   "attachments": {},
   "cell_type": "markdown",
   "metadata": {},
   "source": [
    "# Лабораторная работа №6 по вычислительной математике\n",
    "## Численное решение обыкновенных дифференциальных уравнений. Методы Рунге-Кутты. Методы Адамса.\n",
    "### Выполнил Филиппенко Павел -- студент группы Б01-009"
   ]
  },
  {
   "attachments": {},
   "cell_type": "markdown",
   "metadata": {},
   "source": [
    "##### Задание VIII.11.2"
   ]
  },
  {
   "cell_type": "code",
   "execution_count": 30,
   "metadata": {},
   "outputs": [],
   "source": [
    "import numpy as np\n",
    "import matplotlib.pyplot as plt"
   ]
  },
  {
   "attachments": {},
   "cell_type": "markdown",
   "metadata": {},
   "source": [
    "Будем решать ОДУ второго порядка -- уравнение Ван-дер-Поля.\n",
    "\n",
    "$$y'' + e(y^2 - 1)y' + y = 0$$\n",
    "\n",
    "где $e > 0$ -- некоторый параметр. \n",
    "Представим данное уравнение второго порядка в виде \n",
    "системы двух уравнений первого порядка:\n",
    "\n",
    "$$\n",
    "\\begin{cases}\n",
    "\\frac{dx}{dt} = z \\\\\n",
    "\\frac{dz}{dt} = e(1 - x^2)z - x\n",
    "\\end{cases}\n",
    "$$"
   ]
  },
  {
   "cell_type": "code",
   "execution_count": 31,
   "metadata": {},
   "outputs": [],
   "source": [
    "# set the \"e\" parametr in the equation\n",
    "e = 0.9"
   ]
  },
  {
   "cell_type": "code",
   "execution_count": 32,
   "metadata": {},
   "outputs": [],
   "source": [
    "def f(t, y: list) -> list:\n",
    "    x = y[0]\n",
    "    z = y[1]\n",
    "    res = []\n",
    "    res.append(z)\n",
    "    res.append(e * (1 - x**2) * z - x)\n",
    "    return res\n",
    "\n",
    "# def f(S, t) -> list:\n",
    "#     x, z = S\n",
    "#     res = []\n",
    "#     res.append(z)\n",
    "#     res.append(e * (1 - x**2) * z - x)\n",
    "#     return res"
   ]
  },
  {
   "cell_type": "code",
   "execution_count": 33,
   "metadata": {},
   "outputs": [],
   "source": [
    "def MRK4(h, t_start, t_end, initial_solution):\n",
    "    t = np.linspace(t_start, t_end, int((t_end-t_start)/h+1))\n",
    "    # пока что пишем конкретно под систему из 2 уравнений\n",
    "    solution = np.zeros((int((t_end-t_start)/h+1), 2))\n",
    "    solution[0] = initial_solution\n",
    "\n",
    "    for i in range(len(t) - 1):\n",
    "        k1 = np.array(f(t[i], solution[i]))\n",
    "        k2 = np.array(f(t[i] + h/2, solution[i] + h*k1 * 0.5))\n",
    "        k3 = np.array(f(t[i] + h/2, solution[i] + h*k2 * 0.5))\n",
    "        k4 = np.array(f(t[i] + h, solution[i] + h*k3))\n",
    "        solution[i+1] = solution[i] + h*(k1 + 2*k2 + 2*k3 + k4) / 6\n",
    "    return solution"
   ]
  },
  {
   "cell_type": "code",
   "execution_count": 34,
   "metadata": {},
   "outputs": [],
   "source": [
    "# h = 0.01\n",
    "# init_sol = np.array([2, 0])\n",
    "# t_start = 0\n",
    "# t_end = 100\n",
    "# sol = MRK4(h, t_start, t_end, init_sol)\n",
    "# z = np.array([item[1] for item in sol])\n",
    "# x = np.array([item[0] for item in sol])\n",
    "# t = np.linspace(t_start, t_end, int((t_end-t_start)/h+1))\n",
    "# # plt.plot(t, z)\n",
    "# plt.plot(x, z)"
   ]
  },
  {
   "cell_type": "code",
   "execution_count": 35,
   "metadata": {},
   "outputs": [],
   "source": [
    "from scipy.integrate import odeint"
   ]
  },
  {
   "cell_type": "code",
   "execution_count": 36,
   "metadata": {},
   "outputs": [],
   "source": [
    "# h = 0.01\n",
    "# t_start = 0\n",
    "# t_end = 100\n",
    "# t = np.linspace(t_start, t_end, int((t_end-t_start)/h+1))\n",
    "\n",
    "# sol = odeint(f, (2, 0), t)\n",
    "# s1, s2 = sol.T\n",
    "# plt.plot(t, s2)"
   ]
  },
  {
   "cell_type": "code",
   "execution_count": 37,
   "metadata": {},
   "outputs": [],
   "source": [
    "def Adams_mthd4(h, t_start, t_end, initial_solution: tuple):\n",
    "    t = np.linspace(t_start, t_end, int((t_end-t_start)/h+1))\n",
    "    # пока что пишем конкретно под систему из 2 уравнений\n",
    "    solution = np.zeros((int((t_end-t_start)/h+1), 2))\n",
    "    for i in range(len(initial_solution)):\n",
    "        solution[i] = initial_solution[i]\n",
    "    \n",
    "    for i in range(len(t)-4):\n",
    "        solution[i+4] = solution[i+3] + h * (\n",
    "            55/24 * np.array(f(t[i+3], solution[i+3])) - \\\n",
    "            59/24 * np.array(f(t[i+2], solution[i+2])) + \\\n",
    "            37/24 * np.array(f(t[i+1], solution[i+1])) - \\\n",
    "            3/8   * np.array(f(t[i], solution[i]))\n",
    "        )\n",
    "    return solution"
   ]
  },
  {
   "cell_type": "code",
   "execution_count": 38,
   "metadata": {},
   "outputs": [
    {
     "data": {
      "text/plain": [
       "[<matplotlib.lines.Line2D at 0x7faefa3d7910>]"
      ]
     },
     "execution_count": 38,
     "metadata": {},
     "output_type": "execute_result"
    },
    {
     "data": {
      "image/png": "[encoded data removed]",
      "text/plain": [
       "<Figure size 432x288 with 1 Axes>"
      ]
     },
     "metadata": {
      "needs_background": "light"
     },
     "output_type": "display_data"
    }
   ],
   "source": [
    "# для метода адамса первые 3 значения найдем с помощью метода РК\n",
    "h = 0.01\n",
    "init_sol = np.array([2, 0])\n",
    "t_start = 0\n",
    "t_end = 100\n",
    "sol = MRK4(h, t_start, t_start+h*3, init_sol)\n",
    "solution = Adams_mthd4(h, t_start, t_end, tuple(sol))\n",
    "z = np.array([item[1] for item in solution])\n",
    "x = np.array([item[0] for item in solution])\n",
    "t = np.linspace(t_start, t_end, int((t_end-t_start)/h+1))\n",
    "plt.plot(t, z)\n",
    "# plt.plot(x, z)"
   ]
  }
 ],
 "metadata": {
  "kernelspec": {
   "display_name": "Python 3",
   "language": "python",
   "name": "python3"
  },
  "language_info": {
   "codemirror_mode": {
    "name": "ipython",
    "version": 3
   },
   "file_extension": ".py",
   "mimetype": "text/x-python",
   "name": "python",
   "nbconvert_exporter": "python",
   "pygments_lexer": "ipython3",
   "version": "3.8.10"
  },
  "orig_nbformat": 4,
  "vscode": {
   "interpreter": {
    "hash": "916dbcbb3f70747c44a77c7bcd40155683ae19c65e1c03b4aa3499c5328201f1"
   }
  }
 },
 "nbformat": 4,
 "nbformat_minor": 2
}

{
 "cells": [
  {
   "cell_type": "code",
   "execution_count": 56,
   "metadata": {},
   "outputs": [],
   "source": [
    "import numpy as np\n",
    "import matplotlib.pyplot as plt\n",
    "import sympy as sp"
   ]
  },
  {
   "cell_type": "code",
   "execution_count": 57,
   "metadata": {},
   "outputs": [],
   "source": [
    "class ErrMethod:\n",
    "\n",
    "    h_arr = np.array([2/2**n for n in range(1,21)])\n",
    "\n",
    "    def __init__(self, method_name: str, method_func):\n",
    "        self.mthd_name = method_name # название используемого численного метода \n",
    "        self.mthd_func = method_func # численный метод\n",
    "\n",
    "    def GetErr(self, point, h, analitic_func):\n",
    "        x = sp.Symbol('x')\n",
    "\n",
    "        analitic_function = sp.lambdify(x, analitic_func)\n",
    "        diff_analitic_function = sp.lambdify(x, sp.diff(analitic_func))\n",
    "        \n",
    "        return abs(diff_analitic_function(point) - self.mthd_func(analitic_function, point, h))\n",
    "\n",
    "    def PlotErr(self, point, analitic_func):\n",
    "        err = np.array([])\n",
    "        for h in self.h_arr:\n",
    "            err = np.append(err, self.GetErr(point, h, analitic_func))\n",
    "\n",
    "        plt.scatter(self.h_arr, err, color='red', marker='o', s=8, alpha=1)\n",
    "        plt.plot(self.h_arr, err, color='black', alpha=0.75, lw=1.5, ls='-')"
   ]
  },
  {
   "cell_type": "code",
   "execution_count": 58,
   "metadata": {},
   "outputs": [],
   "source": [
    "class GraphErr:\n",
    "\n",
    "    def __init__(self, function, err_method_map):\n",
    "        self.function = function # аналитическая функция\n",
    "        self.mthd_map = err_method_map # набор численных методов\n",
    "\n",
    "    def Plot(self, point):\n",
    "        for meth in self.mthd_map:\n",
    "            meth.PlotErr(point, self.function)\n",
    "\n",
    "    def BestMeth(self):\n",
    "        pass"
   ]
  },
  {
   "cell_type": "code",
   "execution_count": 59,
   "metadata": {},
   "outputs": [],
   "source": [
    "x = sp.Symbol('x')\n",
    "func_map = {\"sin(x^2)\" : sp.sin(x ** 2), \n",
    "            \"cos(sin(x))\" : sp.cos(sp.sin(x)), \n",
    "            \"exp(sin(cos(x)))\" : sp.exp(sp.sin(sp.cos(x))), \n",
    "            \"ln(x + 3)\" : sp.log(x + 3),\n",
    "            \"(x + 3)^(0,5)\" : (x + 3) ** (1/2)}"
   ]
  },
  {
   "cell_type": "code",
   "execution_count": 60,
   "metadata": {},
   "outputs": [],
   "source": [
    "def meth1(f, x, h):\n",
    "    return (f(x + h) - f(x)) / h\n",
    "\n",
    "def meth2(f, x, h):\n",
    "    return (f(x) - f(x - h)) / h\n",
    "\n",
    "def meth3(f, x, h):\n",
    "    return (f(x + h) - f(x - h)) / 2*h\n",
    "\n",
    "mthd_map = np.array([ErrMethod('method1', meth1), ErrMethod('meth2', meth2), ErrMethod('meth3', meth3)])"
   ]
  },
  {
   "cell_type": "code",
   "execution_count": 61,
   "metadata": {},
   "outputs": [
    {
     "data": {
      "image/png": "[encoded data removed]",
      "text/plain": [
       "<Figure size 864x288 with 1 Axes>"
      ]
     },
     "metadata": {
      "needs_background": "light"
     },
     "output_type": "display_data"
    }
   ],
   "source": [
    "graph_obj1 = GraphErr(func_map[\"sin(x^2)\"], mthd_map)\n",
    "\n",
    "plt.figure(figsize=[12, 4])\n",
    "\n",
    "graph_obj1.Plot(2.23)"
   ]
  }
 ],
 "metadata": {
  "kernelspec": {
   "display_name": "Python 3.8.10 64-bit",
   "language": "python",
   "name": "python3"
  },
  "language_info": {
   "codemirror_mode": {
    "name": "ipython",
    "version": 3
   },
   "file_extension": ".py",
   "mimetype": "text/x-python",
   "name": "python",
   "nbconvert_exporter": "python",
   "pygments_lexer": "ipython3",
   "version": "3.8.10"
  },
  "orig_nbformat": 4,
  "vscode": {
   "interpreter": {
    "hash": "916dbcbb3f70747c44a77c7bcd40155683ae19c65e1c03b4aa3499c5328201f1"
   }
  }
 },
 "nbformat": 4,
 "nbformat_minor": 2
}

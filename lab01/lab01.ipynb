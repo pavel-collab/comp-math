{
 "cells": [
  {
   "cell_type": "code",
   "execution_count": 7,
   "metadata": {},
   "outputs": [],
   "source": [
    "import numpy as np\n",
    "import matplotlib.pyplot as plt\n",
    "import sympy"
   ]
  },
  {
   "cell_type": "code",
   "execution_count": 8,
   "metadata": {},
   "outputs": [],
   "source": [
    "class ErrMethod:\n",
    "    __slots__ = ['__analitic_func']\n",
    "\n",
    "\n",
    "    h_arr = np.array([2/2**n for n in range(1,21)])\n",
    "\n",
    "    def __init__(self, method_name: str, method_func, analitic_func):\n",
    "        self.mthd_name = method_name # название используемого численного метода \n",
    "        self.mthd_func = method_func # численный метод\n",
    "        self.__analitic_func = analitic_func # аналитическая функция\n",
    "\n",
    "    def GetErr(self, x, h):\n",
    "        return abs(self.__analitic_func(x) - self.mthd_func(x, h))\n",
    "\n",
    "    def PlotErr(self, x):\n",
    "        err = np.array([])\n",
    "        for h in self.h_arr:\n",
    "            err = np.append(err, self.GetErr(x, h))\n",
    "\n",
    "        plt.scatter(self.h_arr, err, color='red', marker='o', s=8, alpha=1)\n",
    "        plt.plot(self.h_arr, err, color='black', alpha=0.75, lw=1.5, ls='-')"
   ]
  },
  {
   "cell_type": "code",
   "execution_count": 9,
   "metadata": {},
   "outputs": [],
   "source": [
    "class GraphErr:\n",
    "\n",
    "    def __init__(self, function, err_method_map):\n",
    "        self.function = function # аналитическая функция\n",
    "        self.mthd_map = err_method_map # набор численных методов\n",
    "\n",
    "    def Plot(self, x):\n",
    "        for meth in self.mthd_map:\n",
    "            meth.PlotErr(x)\n",
    "\n",
    "    def BestMeth(self):\n",
    "        pass"
   ]
  },
  {
   "cell_type": "code",
   "execution_count": null,
   "metadata": {},
   "outputs": [],
   "source": []
  }
 ],
 "metadata": {
  "kernelspec": {
   "display_name": "Python 3.8.10 64-bit",
   "language": "python",
   "name": "python3"
  },
  "language_info": {
   "codemirror_mode": {
    "name": "ipython",
    "version": 3
   },
   "file_extension": ".py",
   "mimetype": "text/x-python",
   "name": "python",
   "nbconvert_exporter": "python",
   "pygments_lexer": "ipython3",
   "version": "3.8.10"
  },
  "orig_nbformat": 4,
  "vscode": {
   "interpreter": {
    "hash": "916dbcbb3f70747c44a77c7bcd40155683ae19c65e1c03b4aa3499c5328201f1"
   }
  }
 },
 "nbformat": 4,
 "nbformat_minor": 2
}

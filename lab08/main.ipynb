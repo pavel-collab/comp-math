{
 "cells": [
  {
   "attachments": {},
   "cell_type": "markdown",
   "metadata": {},
   "source": [
    "# Лабораторная работа №8 по вычислительной математике\n",
    "## Применение метода стрельбы для решения ДУ.\n",
    "### Выполнил Филиппенко Павел -- студент группы Б01-009"
   ]
  },
  {
   "attachments": {},
   "cell_type": "markdown",
   "metadata": {},
   "source": [
    "##### Задание XI.9.2 (б)"
   ]
  },
  {
   "cell_type": "code",
   "execution_count": 237,
   "metadata": {},
   "outputs": [],
   "source": [
    "import numpy as np\n",
    "import matplotlib.pyplot as plt"
   ]
  },
  {
   "attachments": {},
   "cell_type": "markdown",
   "metadata": {},
   "source": [
    "#### Методология\n",
    "\n",
    "Опишем методологию метода стрельбы. Будем решать краевую задачу вида\n",
    "\n",
    "$$\n",
    "\\begin{cases}\n",
    "y'' = f(x, y, y') \\\\\n",
    "y(0) = y_0 \\\\\n",
    "y(L) = y_1\n",
    "\\end{cases}\n",
    "$$\n",
    "\n",
    "Для решение данной краевой задачи, рассмотрим вспомогательную задачу\n",
    "\n",
    "$$\n",
    "\\begin{cases}\n",
    "y'' = f(x, y, y') \\\\\n",
    "y(0) = y_0 \\\\\n",
    "y'(0) = \\alpha\n",
    "\\end{cases}\n",
    "$$\n",
    "\n",
    "где $\\alpha$ -- некоторое число, называемое _пристрелочным параметром_. Для численного решения \n",
    "полученной задачи Коши, понизим порядок системы.\n",
    "\n",
    "$$\n",
    "\\begin{cases}\n",
    "u' = f(x, y, u) \\\\\n",
    "y' = u \\\\\n",
    "y(0) = y_0 \\\\\n",
    "u(0) = \\alpha\n",
    "\\end{cases}\n",
    "$$\n",
    "\n",
    "Решая данную численную задачу одим, из известных нам методов (например, методами Рунге-Куты), мы получим\n",
    "численное решение $y(x, \\alpha)$. Возвращаясь к изначальной задаче и рассматривая условие на правой \n",
    "границе (в точке $L$), получим уравнение\n",
    "\n",
    "$$\n",
    "F(\\alpha) = y(x, \\alpha) - y_1 = 0\n",
    "$$\n",
    "\n",
    "Все, что нам остается -- подобрать такой параметр $\\alpha$, чтобы данное выражение превратилось в \n",
    "тождество, иначе, решить данное, в общем случае, нелинейное уравнение."
   ]
  },
  {
   "attachments": {},
   "cell_type": "markdown",
   "metadata": {},
   "source": [
    "#### Подбор пристрелочного параметра\n",
    "\n",
    "Поскольку уравнение $F(\\alpha) = y(x, \\alpha) - y_1 = 0$ в общем случае является нелинейным, можно\n",
    "попробовать применить к нему метод Ньютона решения нелинейных уравнений\n",
    "\n",
    "$$\n",
    "\\alpha_{n+1} = \\alpha_n - \\frac{F(\\alpha_n)}{F'(\\alpha_n)}\n",
    "$$\n",
    "\n",
    "Проблема состоит в том, что, в данном случае, уравнение $F(\\alpha) = 0$ задано не аналитическим \n",
    "выражением, а, как бы, расчетным методом. Решить данную проблему можно следующим образом: вернемся к \n",
    "вспомогательной задаче\n",
    "\n",
    "$$\n",
    "\\begin{cases}\n",
    "u' = f(x, y, u) \\\\\n",
    "y' = u \\\\\n",
    "y(0) = y_0 \\\\\n",
    "u(0) = \\alpha\n",
    "\\end{cases}\n",
    "$$\n",
    "\n",
    "и продифференцируем ее по $\\alpha$. \n",
    "\n",
    "$$\n",
    "\\begin{cases}\n",
    "\\frac{d}{dx} \\left(\\frac{\\partial u}{\\partial \\alpha} \\right) = \\frac{\\partial f}{\\partial y} \\frac{\\partial y}{\\partial \\alpha} + \\frac{\\partial f}{\\partial u} \\frac{\\partial u}{\\partial \\alpha} \\\\ \n",
    "\\frac{d}{dx} \\left(\\frac{\\partial y}{\\partial \\alpha} \\right) = \\frac{\\partial u}{\\partial \\alpha} \\\\\n",
    "\\frac{\\partial y}{\\partial \\alpha}(0) = 0 \\\\\n",
    "\\frac{\\partial u}{\\partial \\alpha}(0) = 1\n",
    "\\end{cases}\n",
    "$$\n",
    "\n",
    "Для удобства восприятия сделаем замену: \n",
    "\n",
    "$$\n",
    "\\frac{\\partial y}{\\partial \\alpha} = A \\\\ \n",
    "\\frac{\\partial u}{\\partial \\alpha} = B\n",
    "$$\n",
    "\n",
    "тогда перепишем последнюю систему\n",
    "\n",
    "$$\n",
    "\\begin{cases}\n",
    "\\frac{dB}{dx} = A \\frac{\\partial f}{\\partial y} + B \\frac{\\partial f}{\\partial u} \\\\ \n",
    "\\frac{dA}{dx} = B \\\\\n",
    "A(0) = 0 \\\\\n",
    "B(0) = 1\n",
    "\\end{cases}\n",
    "$$\n",
    "\n",
    "Решая численно данную систему относительно $A$ и $B$ (решаем обычную численную задачу, например методами Рунге-Куты), получим $A = \\frac{\\partial y}{\\partial \\alpha}$.\n",
    "Тогда, мы уже сможем воспользоваться методом Ньютона:\n",
    "\n",
    "$$\n",
    "\\alpha_{n+1} = \\alpha_n - \\frac{F(\\alpha_n)}{\\frac{\\partial y}{\\partial \\alpha}(\\alpha_n)}\n",
    "$$"
   ]
  },
  {
   "attachments": {},
   "cell_type": "markdown",
   "metadata": {},
   "source": [
    "#### Алгоритм решения задачи\n",
    "\n",
    "- Выбираем начальный пристрелочный параметр $\\alpha_0$\n",
    "- Решаем вспомогательную задачу Коши, получаем $F(\\alpha_0)$ (это число)\n",
    "- Решаем продифференцированную вспомогательную задачу Коши, получаем $\\frac{\\partial y}{\\partial \\alpha}(\\alpha_0)$ (это тоже число)\n",
    "- С помощью итерации метода Ньютона получаем новое $\\alpha$ : $\\alpha_{n+1} = \\alpha_n - \\frac{F(\\alpha_n)}{\\frac{\\partial y}{\\partial \\alpha}(\\alpha_n)}$\n",
    "- Повторяем этот алгоритм до тех пор, пока не выполнится условие $|F(\\alpha_n)| < \\varepsilon$, где $\\varepsilon$ -- заранее заданная точность."
   ]
  },
  {
   "attachments": {},
   "cell_type": "markdown",
   "metadata": {},
   "source": [
    "#### Целевая задача\n",
    "\n",
    "Будем решать следующую задачу\n",
    "$$\n",
    "\\begin{cases}\n",
    "y'' = \\frac{(y')^2}{y - 2} \\\\\n",
    "y(0) = y_0 \\\\\n",
    "y(1) = 0\n",
    "\\end{cases}\n",
    "$$\n",
    "\n",
    "Понизим порядок системы для численного решения\n",
    "$$\n",
    "\\begin{cases}\n",
    "u' = \\frac{u^2}{y - 2} \\\\\n",
    "y' = u \\\\\n",
    "y(0) = y_0 \\\\\n",
    "y(1) = 0\n",
    "\\end{cases}\n",
    "$$"
   ]
  },
  {
   "cell_type": "code",
   "execution_count": 238,
   "metadata": {},
   "outputs": [],
   "source": [
    "# Задаем функции правой части\n",
    "def f1(y, u):\n",
    "    return u**2 / (y - 2)\n",
    "\n",
    "def f2(y, u):\n",
    "    return u\n",
    "\n",
    "def F(t, y_vec):\n",
    "    y = y_vec[0]\n",
    "    u = y_vec[1]\n",
    "    return np.array([\n",
    "        f2(y, u),\n",
    "        f1(y, u)\n",
    "    ])"
   ]
  },
  {
   "cell_type": "code",
   "execution_count": 239,
   "metadata": {},
   "outputs": [],
   "source": [
    "# Метод Рунге-Кутты 4 порядка\n",
    "# Реализация для решения системы двух уравнений первого порядка (initial_solution -- вектор из 2 значений)\n",
    "def MRK4(f, h, t_start, t_end, initial_solution):\n",
    "    t = np.linspace(t_start, t_end, int((t_end-t_start)/h+1))\n",
    "    # the system dimention is 2\n",
    "    solution = np.zeros((int((t_end-t_start)/h+1), 2))\n",
    "    solution[0] = initial_solution\n",
    "\n",
    "    for i in range(len(t) - 1):\n",
    "        k1 = f(t[i], solution[i])\n",
    "        k2 = f(t[i] + h/2, solution[i] + h*k1 * 0.5)\n",
    "        k3 = f(t[i] + h/2, solution[i] + h*k2 * 0.5)\n",
    "        k4 = f(t[i] + h, solution[i] + h*k3)\n",
    "        solution[i+1] = solution[i] + h*(k1 + 2*k2 + 2*k3 + k4) / 6\n",
    "    return solution"
   ]
  },
  {
   "cell_type": "code",
   "execution_count": 240,
   "metadata": {},
   "outputs": [],
   "source": [
    "# зададим параметры задачи\n",
    "x_start = 0\n",
    "x_end   = 1\n",
    "h = 0.01\n",
    "# y0 = 0.25\n",
    "# y0 = 0.5\n",
    "# y0 = 1\n",
    "# y0 = 1.5\n",
    "# y0 = 1.8\n",
    "# y0 = 1.9\n",
    "y0 = 1.95\n",
    "\n",
    "eps = 1e-6"
   ]
  },
  {
   "cell_type": "code",
   "execution_count": 241,
   "metadata": {},
   "outputs": [
    {
     "data": {
      "image/png": "[encoded data removed]",
      "text/plain": [
       "<Figure size 432x288 with 1 Axes>"
      ]
     },
     "metadata": {
      "needs_background": "light"
     },
     "output_type": "display_data"
    }
   ],
   "source": [
    "alpha = 1\n",
    "init_sol = np.array([y0, alpha])\n",
    "\n",
    "sol = MRK4(F, h, x_start, x_end, init_sol)\n",
    "y, u = sol.T\n",
    "x = np.linspace(x_start, x_end, int((x_end-x_start)/h+1))\n",
    "plt.plot(x, y)\n",
    "plt.title(r'$\\alpha = $' + f'{round(alpha, 3)} ' + f'y(1) = {round(y[-1], 3)}')\n",
    "plt.ylabel('y')\n",
    "plt.xlabel('x')\n",
    "plt.grid()\n",
    "\n",
    "y_L = y[-1]"
   ]
  },
  {
   "cell_type": "code",
   "execution_count": 242,
   "metadata": {},
   "outputs": [
    {
     "data": {
      "image/png": "[encoded data removed]",
      "text/plain": [
       "<Figure size 432x288 with 1 Axes>"
      ]
     },
     "metadata": {
      "needs_background": "light"
     },
     "output_type": "display_data"
    }
   ],
   "source": [
    "alpha1 = -1\n",
    "alpha2 = 1\n",
    "\n",
    "# пока что юзаем бин поиск по alpha\n",
    "while (abs(y_L) > eps):\n",
    "    alpha = (alpha2+alpha1)/2\n",
    "    init_sol = np.array([y0, alpha])\n",
    "    sol = MRK4(F, h, x_start, x_end, init_sol)\n",
    "    y, u = sol.T\n",
    "\n",
    "    assert(abs(y[0] - y0) < eps)\n",
    "    assert(abs(u[0] - alpha) < eps)\n",
    "    y_L = y[-1]\n",
    "    if (y_L < 0):\n",
    "        alpha1 = alpha\n",
    "    else:\n",
    "        alpha2 = alpha\n",
    "    \n",
    "\n",
    "x = np.linspace(x_start, x_end, int((x_end-x_start)/h+1))\n",
    "plt.plot(x, y)\n",
    "plt.title(r'$\\alpha = $' + f'{round(alpha, 3)} ' + f'y(1) = {round(y[-1], 3)}')\n",
    "plt.ylabel('y')\n",
    "plt.xlabel('x')\n",
    "plt.grid()"
   ]
  }
 ],
 "metadata": {
  "kernelspec": {
   "display_name": "Python 3",
   "language": "python",
   "name": "python3"
  },
  "language_info": {
   "codemirror_mode": {
    "name": "ipython",
    "version": 3
   },
   "file_extension": ".py",
   "mimetype": "text/x-python",
   "name": "python",
   "nbconvert_exporter": "python",
   "pygments_lexer": "ipython3",
   "version": "3.8.10"
  },
  "orig_nbformat": 4
 },
 "nbformat": 4,
 "nbformat_minor": 2
}

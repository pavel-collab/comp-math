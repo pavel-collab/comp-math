{
 "cells": [
  {
   "attachments": {},
   "cell_type": "markdown",
   "metadata": {},
   "source": [
    "# Лабораторная работа №8 по вычислительной математике\n",
    "## Применение метода стрельбы для решения ДУ.\n",
    "### Выполнил Филиппенко Павел -- студент группы Б01-009"
   ]
  },
  {
   "attachments": {},
   "cell_type": "markdown",
   "metadata": {},
   "source": [
    "##### Задание XI.9.2 (б)"
   ]
  },
  {
   "cell_type": "code",
   "execution_count": 52,
   "metadata": {},
   "outputs": [],
   "source": [
    "import numpy as np\n",
    "import matplotlib.pyplot as plt"
   ]
  },
  {
   "attachments": {},
   "cell_type": "markdown",
   "metadata": {},
   "source": [
    "#### Методология\n",
    "\n",
    "Опишем методологию метода стрельбы. Будем решать краевую задачу вида\n",
    "\n",
    "$$\n",
    "\\begin{cases}\n",
    "y'' = f(x, y, y') \\\\\n",
    "y(0) = y_0 \\\\\n",
    "y(L) = y_1\n",
    "\\end{cases}\n",
    "$$\n",
    "\n",
    "Для решение данной краевой задачи, рассмотрим вспомогательную задачу\n",
    "\n",
    "$$\n",
    "\\begin{cases}\n",
    "y'' = f(x, y, y') \\\\\n",
    "y(0) = y_0 \\\\\n",
    "y'(0) = \\alpha\n",
    "\\end{cases}\n",
    "$$\n",
    "\n",
    "где $\\alpha$ -- некоторое число, называемое _пристрелочным параметром_. Для численного решения \n",
    "полученной задачи Коши, понизим порядок системы.\n",
    "\n",
    "$$\n",
    "\\begin{cases}\n",
    "u' = f(x, y, u) \\\\\n",
    "y' = u \\\\\n",
    "y(0) = y_0 \\\\\n",
    "u(0) = \\alpha\n",
    "\\end{cases}\n",
    "$$\n",
    "\n",
    "Решая данную численную задачу одим, из известных нам методов (например, методами Рунге-Куты), мы получим\n",
    "численное решение $y(x, \\alpha)$. Возвращаясь к изначальной задаче и рассматривая условие на правой \n",
    "границе (в точке $L$), получим уравнение\n",
    "\n",
    "$$\n",
    "F(\\alpha) = y(x, \\alpha) - y_1 = 0\n",
    "$$\n",
    "\n",
    "Все, что нам остается -- подобрать такой параметр $\\alpha$, чтобы данное выражение превратилось в \n",
    "тождество, иначе, решить данное, в общем случае, нелинейное уравнение."
   ]
  },
  {
   "attachments": {},
   "cell_type": "markdown",
   "metadata": {},
   "source": [
    "#### Подбор пристрелочного параметра\n",
    "\n",
    "Поскольку уравнение $F(\\alpha) = y(x, \\alpha) - y_1 = 0$ в общем случае является нелинейным, можно\n",
    "попробовать применить к нему метод Ньютона решения нелинейных уравнений\n",
    "\n",
    "$$\n",
    "\\alpha_{n+1} = \\alpha_n - \\frac{F(\\alpha_n)}{F'(\\alpha_n)}\n",
    "$$\n",
    "\n",
    "Проблема состоит в том, что, в данном случае, уравнение $F(\\alpha) = 0$ задано не аналитическим \n",
    "выражением, а, как бы, расчетным методом. Решить данную проблему можно следующим образом: вернемся к \n",
    "вспомогательной задаче\n",
    "\n",
    "$$\n",
    "\\begin{cases}\n",
    "u' = f(x, y, u) \\\\\n",
    "y' = u \\\\\n",
    "y(0) = y_0 \\\\\n",
    "u(0) = \\alpha\n",
    "\\end{cases}\n",
    "$$\n",
    "\n",
    "и продифференцируем ее по $\\alpha$. \n",
    "\n",
    "$$\n",
    "\\begin{cases}\n",
    "\\frac{d}{dx} \\left(\\frac{\\partial u}{\\partial \\alpha} \\right) = \\frac{\\partial f}{\\partial y} \\frac{\\partial y}{\\partial \\alpha} + \\frac{\\partial f}{\\partial u} \\frac{\\partial u}{\\partial \\alpha} \\\\ \n",
    "\\frac{d}{dx} \\left(\\frac{\\partial y}{\\partial \\alpha} \\right) = \\frac{\\partial u}{\\partial \\alpha} \\\\\n",
    "\\frac{\\partial y}{\\partial \\alpha}(0) = 0 \\\\\n",
    "\\frac{\\partial u}{\\partial \\alpha}(0) = 1\n",
    "\\end{cases}\n",
    "$$\n",
    "\n",
    "Для удобства восприятия сделаем замену: \n",
    "\n",
    "$$\n",
    "\\frac{\\partial y}{\\partial \\alpha} = A \\\\ \n",
    "\\frac{\\partial u}{\\partial \\alpha} = B\n",
    "$$\n",
    "\n",
    "тогда перепишем последнюю систему\n",
    "\n",
    "$$\n",
    "\\begin{cases}\n",
    "\\frac{dB}{dx} = A \\frac{\\partial f}{\\partial y} + B \\frac{\\partial f}{\\partial u} \\\\ \n",
    "\\frac{dA}{dx} = B \\\\\n",
    "A(0) = 0 \\\\\n",
    "B(0) = 1\n",
    "\\end{cases}\n",
    "$$\n",
    "\n",
    "Решая численно данную систему относительно $A$ и $B$ (решаем обычную численную задачу, например методами Рунге-Куты), получим $A = \\frac{\\partial y}{\\partial \\alpha}$.\n",
    "Тогда, мы уже сможем воспользоваться методом Ньютона:\n",
    "\n",
    "$$\n",
    "\\alpha_{n+1} = \\alpha_n - \\frac{F(\\alpha_n)}{\\frac{\\partial y}{\\partial \\alpha}(\\alpha_n)}\n",
    "$$"
   ]
  },
  {
   "attachments": {},
   "cell_type": "markdown",
   "metadata": {},
   "source": [
    "#### Алгоритм решения задачи\n",
    "\n",
    "- Выбираем начальный пристрелочный параметр $\\alpha_0$\n",
    "- Решаем вспомогательную задачу Коши, получаем $F(\\alpha_0)$ (это число)\n",
    "- Решаем продифференцированную вспомогательную задачу Коши, получаем $\\frac{\\partial y}{\\partial \\alpha}(\\alpha_0)$ (это тоже число)\n",
    "- С помощью итерации метода Ньютона получаем новое $\\alpha$ : $\\alpha_{n+1} = \\alpha_n - \\frac{F(\\alpha_n)}{\\frac{\\partial y}{\\partial \\alpha}(\\alpha_n)}$\n",
    "- Повторяем этот алгоритм до тех пор, пока не выполнится условие $|F(\\alpha_n)| < \\varepsilon$, где $\\varepsilon$ -- заранее заданная точность."
   ]
  },
  {
   "attachments": {},
   "cell_type": "markdown",
   "metadata": {},
   "source": [
    "#### Целевая задача\n",
    "\n",
    "Будем решать следующую задачу\n",
    "$$\n",
    "\\begin{cases}\n",
    "y'' = \\frac{(y')^2}{y - 2} \\\\\n",
    "y(0) = y_0 \\\\\n",
    "y(1) = 0\n",
    "\\end{cases}\n",
    "$$\n",
    "\n",
    "Понизим порядок системы для численного решения\n",
    "$$\n",
    "\\begin{cases}\n",
    "u' = \\frac{u^2}{y - 2} \\\\\n",
    "y' = u \\\\\n",
    "y(0) = y_0 \\\\\n",
    "y(1) = 0\n",
    "\\end{cases}\n",
    "$$"
   ]
  },
  {
   "cell_type": "code",
   "execution_count": 53,
   "metadata": {},
   "outputs": [],
   "source": [
    "# Задаем функции правой части\n",
    "def f1(y, u):\n",
    "    return u**2 / (y - 2)\n",
    "\n",
    "def f2(y, u):\n",
    "    return u\n",
    "\n",
    "def F(t, y_vec):\n",
    "    y = y_vec[0]\n",
    "    u = y_vec[1]\n",
    "    return np.array([\n",
    "        f2(y, u),\n",
    "        f1(y, u)\n",
    "    ])"
   ]
  },
  {
   "cell_type": "code",
   "execution_count": 54,
   "metadata": {},
   "outputs": [],
   "source": [
    "# Метод Рунге-Кутты 4 порядка\n",
    "# Реализация для решения системы двух уравнений первого порядка (initial_solution -- вектор из 2 значений)\n",
    "def MRK4(f, h, t_start, t_end, initial_solution):\n",
    "    t = np.linspace(t_start, t_end, int((t_end-t_start)/h+1))\n",
    "    # the system dimention is 2\n",
    "    solution = np.zeros((int((t_end-t_start)/h+1), 2))\n",
    "    solution[0] = initial_solution\n",
    "\n",
    "    for i in range(len(t) - 1):\n",
    "        k1 = f(t[i], solution[i])\n",
    "        k2 = f(t[i] + h/2, solution[i] + h*k1 * 0.5)\n",
    "        k3 = f(t[i] + h/2, solution[i] + h*k2 * 0.5)\n",
    "        k4 = f(t[i] + h, solution[i] + h*k3)\n",
    "        solution[i+1] = solution[i] + h*(k1 + 2*k2 + 2*k3 + k4) / 6\n",
    "    return solution"
   ]
  },
  {
   "attachments": {},
   "cell_type": "markdown",
   "metadata": {},
   "source": [
    "##### Неочевидны момент\n",
    "\n",
    "При теоретическом разборе метода стрельбы с поиском пристрелоного параметра методом Ньютона не \n",
    "совсем очевидно, в какой момент и каким образом решается вторая вспомогательная система\n",
    "\n",
    "$$\n",
    "\\begin{cases}\n",
    "\\frac{dB}{dx} = A \\frac{\\partial f}{\\partial y} + B \\frac{\\partial f}{\\partial u} \\\\ \n",
    "\\frac{dA}{dx} = B \\\\\n",
    "A(0) = 0 \\\\\n",
    "B(0) = 1\n",
    "\\end{cases}\n",
    "$$\n",
    "\n",
    "Дело в том, что система решается относительно $A$ и $B$. Между тем, в составе системы присутствуют\n",
    "частные производные функции $f$. При написании численного алгоритма, мы не только не знаем численные\n",
    "значения этих производных, но даже не понимаем, в каких точках нужно их брать.\n",
    "\n",
    "На самом деле, данную вспомогательную систему нужно решать одновременно с первой вспомогательной \n",
    "системой. Для этого, нам даже придется переписать метод Рунге-Кутты. Если коротко, в каждой точке\n",
    "$x$ сетки, мы сначала вычисляем значения частных производных $f$ (их можно найти аналитически и \n",
    "затем подставить значения), составляем функцию правой части для второй вспомогательной системы\n",
    "и вычисляем значения $A(x)$ и $B(x)$ в следующей точке $x$ сетки.\n",
    "\n",
    "__Note:__ если вы ничего не поняли, смотрите код функции _ModMRK4_ ~~или обратитесь к автору решения~~."
   ]
  },
  {
   "cell_type": "code",
   "execution_count": 55,
   "metadata": {},
   "outputs": [],
   "source": [
    "# Модифицированный метод Рунге-Кутты\n",
    "# Помимо решения основной задачи Коши, параллельно так же решает вспомогательную систему ДУ\n",
    "# для нахождения частной производной функци f по пристрелочному параметру alpha\n",
    "# Функция возвращает кортеж из двух объектов:\n",
    "# вектор решений основной системы\n",
    "# значение производной функции f по пристрелочному параметру в крайней правой точке\n",
    "def ModMRK4(f, h, x_start, x_end, initial_solution):\n",
    "    x = np.linspace(x_start, x_end, int((x_end-x_start)/h+1))\n",
    "    # the system dimention is 2\n",
    "    solution = np.zeros((int((x_end-x_start)/h+1), 2))\n",
    "    solution[0] = initial_solution\n",
    "\n",
    "    ab_init_sol = np.array([0, 1])\n",
    "    ab_solution = np.zeros((int((x_end-x_start)/h+1), 2))\n",
    "    ab_solution[0] = ab_init_sol\n",
    "\n",
    "    for i in range(len(x) - 1):\n",
    "        k1 = f(x[i], solution[i])\n",
    "        k2 = f(x[i] + h/2, solution[i] + h*k1 * 0.5)\n",
    "        k3 = f(x[i] + h/2, solution[i] + h*k2 * 0.5)\n",
    "        k4 = f(x[i] + h, solution[i] + h*k3)\n",
    "        solution[i+1] = solution[i] + h*(k1 + 2*k2 + 2*k3 + k4) / 6\n",
    "\n",
    "        yi, ui = solution[i]\n",
    "        df_dy = (-ui**2)/(yi - 2)**2\n",
    "        df_du = 2*ui / (yi - 2)\n",
    "\n",
    "        def g1(A, B):\n",
    "            return A*df_dy + B*df_du\n",
    "\n",
    "        def g2(A, B):\n",
    "            return B\n",
    "\n",
    "        def G(x, ab_vec):\n",
    "            A = ab_vec[0]\n",
    "            B = ab_vec[1]\n",
    "            return np.array([\n",
    "                g2(A, B),\n",
    "                g1(A, B)\n",
    "            ])\n",
    "        \n",
    "        ab_k1 = G(x[i], ab_solution[i])\n",
    "        ab_k2 = G(x[i] + h/2, ab_solution[i] + h*ab_k1 * 0.5)\n",
    "        ab_k3 = G(x[i] + h/2, ab_solution[i] + h*ab_k2 * 0.5)\n",
    "        ab_k4 = G(x[i] + h,   ab_solution[i] + h*ab_k3)\n",
    "        ab_solution[i+1] = ab_solution[i] + h*(ab_k1 + 2*ab_k2 + 2*ab_k3 + ab_k4) / 6\n",
    "    \n",
    "    A, B = ab_solution.T\n",
    "    return (solution, A[-1])"
   ]
  },
  {
   "attachments": {},
   "cell_type": "markdown",
   "metadata": {},
   "source": [
    "##### Бинарный поиск\n",
    "\n",
    "Кроме использования метода Ньютона для нахождения пристрелочного параметра можно так же \n",
    "использовать метод бинарного поиска (дешево и сердито). Бинарный поиск можно использовать и в\n",
    "других целях. Как мы знаем, метод Ньютона требует начальное значени параметра, если начальное \n",
    "значение задано плохо, метод может разойтись. Таким образом, бинарный поиск можно использовать для \n",
    "первичной локализации значения пристрелочного параметра (Задаем границы бинпоиска и не не очень\n",
    "большую тоность решения). "
   ]
  },
  {
   "cell_type": "code",
   "execution_count": 56,
   "metadata": {},
   "outputs": [],
   "source": [
    "# alpha_left и alpha_right -- начальные границы диапазона, в котором происходит бин поиск\n",
    "# eps -- точность решения\n",
    "# Остальные аргументы функции такие же, как для метода Рунге-Куты\n",
    "def BinaryFindOut(alpha_left, alpha_right, eps, f, h, t_start, t_end, y0):\n",
    "    init_solution = np.array([y0, alpha_right])\n",
    "    sol = MRK4(f, h, t_start, t_end, init_solution)\n",
    "    y, u = sol.T\n",
    "    y_L = y[-1]\n",
    "\n",
    "    alpha = 0\n",
    "    while (abs(y_L) > eps):\n",
    "        alpha = (alpha_left+alpha_right)/2\n",
    "        init_sol = np.array([y0, alpha])\n",
    "        sol = MRK4(f, h, t_start, t_end, init_sol)\n",
    "        y, u = sol.T\n",
    "\n",
    "        assert(abs(y[0] - y0) < eps)\n",
    "        assert(abs(u[0] - alpha) < eps)\n",
    "        y_L = y[-1]\n",
    "        if (y_L < 0):\n",
    "            alpha_left = alpha\n",
    "        else:\n",
    "            alpha_right = alpha\n",
    "    \n",
    "    return y, u, alpha"
   ]
  },
  {
   "cell_type": "code",
   "execution_count": 57,
   "metadata": {},
   "outputs": [],
   "source": [
    "# initial_alpha -- начальное значение, от которого будет работать метод Ньютона (можно уточнить с помощью бин поиска)\n",
    "# eps -- точность решения\n",
    "# Остальные аргументы функции такие же, как для метода Рунге-Куты\n",
    "def SootingMthd(initial_alpha, eps, f, h, t_start, t_end, y0):\n",
    "    init_sol = np.array([y0, initial_alpha])\n",
    "\n",
    "    res = ModMRK4(F, h, t_start, t_end, init_sol)\n",
    "    sol = res[0]\n",
    "    y, u = sol.T\n",
    "\n",
    "    df_dal = res[1]\n",
    "    y_L = y[-1]\n",
    "\n",
    "    alpha_prev = alpha_next = initial_alpha\n",
    "    while (abs(y_L) > eps):\n",
    "        alpha_prev = alpha_next\n",
    "        alpha_next = alpha_prev - y_L/df_dal\n",
    "\n",
    "        init_sol = np.array([y0, alpha_next])\n",
    "        res = ModMRK4(F, h, t_start, t_end, init_sol)\n",
    "        sol = res[0]\n",
    "        y, u = sol.T\n",
    "\n",
    "        df_dal = res[1]\n",
    "        y_L = y[-1]\n",
    "    \n",
    "    return y, alpha_next"
   ]
  },
  {
   "cell_type": "code",
   "execution_count": 58,
   "metadata": {},
   "outputs": [],
   "source": [
    "# зададим параметры задачи\n",
    "x_start = 0\n",
    "x_end   = 1\n",
    "h = 0.01\n",
    "y0 = 1.95\n",
    "\n",
    "# список различных граничных значений\n",
    "y0_list = [0.25, 0.5, 1, 1.5, 1.8, 1.9, 1.95]\n",
    "\n",
    "# точность решения\n",
    "eps = 1e-6"
   ]
  },
  {
   "attachments": {},
   "cell_type": "markdown",
   "metadata": {},
   "source": [
    "Найдем значение пристрелочного параметра и решение задачи с помощью бин поиска."
   ]
  },
  {
   "cell_type": "code",
   "execution_count": 59,
   "metadata": {},
   "outputs": [
    {
     "data": {
      "image/png": "[encoded data removed]",
      "text/plain": [
       "<Figure size 432x288 with 1 Axes>"
      ]
     },
     "metadata": {
      "needs_background": "light"
     },
     "output_type": "display_data"
    }
   ],
   "source": [
    "# применяем метод бинарного поиска\n",
    "alpha_left = -1\n",
    "alpha_right = 1\n",
    "\n",
    "y, u, alpha = BinaryFindOut(alpha_left, alpha_right, eps, F, h, x_start, x_end, y0)\n",
    "\n",
    "x = np.linspace(x_start, x_end, int((x_end-x_start)/h+1))\n",
    "plt.plot(x, y)\n",
    "plt.title(r'$\\alpha = $' + f'{round(alpha, 3)} ' + f'y(1) = {round(y[-1], 3)}')\n",
    "plt.ylabel('y')\n",
    "plt.xlabel('x')\n",
    "plt.grid()"
   ]
  },
  {
   "attachments": {},
   "cell_type": "markdown",
   "metadata": {},
   "source": [
    "Найдем значение пристрелочного параметра и решение задачи с помощью метода стрельбы с использованием\n",
    "решения второй вспомогательной системы."
   ]
  },
  {
   "cell_type": "code",
   "execution_count": 60,
   "metadata": {},
   "outputs": [
    {
     "data": {
      "image/png": "[encoded data removed]",
      "text/plain": [
       "<Figure size 432x288 with 1 Axes>"
      ]
     },
     "metadata": {
      "needs_background": "light"
     },
     "output_type": "display_data"
    }
   ],
   "source": [
    "initial_alpha = -1\n",
    "y, alpha = SootingMthd(initial_alpha, eps, F, h, x_start, x_end, y0)\n",
    "\n",
    "x = np.linspace(x_start, x_end, int((x_end-x_start)/h+1))\n",
    "plt.plot(x, y)\n",
    "plt.title(r'$\\alpha = $' + f'{round(alpha, 3)} ' + f'y(1) = {round(y[-1], 3)}')\n",
    "plt.ylabel('y')\n",
    "plt.xlabel('x')\n",
    "plt.grid()"
   ]
  },
  {
   "attachments": {},
   "cell_type": "markdown",
   "metadata": {},
   "source": [
    "Рассмотрим решение задачи с различными граничными условиями."
   ]
  },
  {
   "cell_type": "code",
   "execution_count": 61,
   "metadata": {},
   "outputs": [
    {
     "data": {
      "image/png": "[encoded data removed]",
      "text/plain": [
       "<Figure size 432x288 with 1 Axes>"
      ]
     },
     "metadata": {
      "needs_background": "light"
     },
     "output_type": "display_data"
    }
   ],
   "source": [
    "for y0 in y0_list:\n",
    "    y, alpha = SootingMthd(initial_alpha, eps, F, h, x_start, x_end, y0)\n",
    "\n",
    "    x = np.linspace(x_start, x_end, int((x_end-x_start)/h+1))\n",
    "    plt.plot(x, y, label=r'$\\alpha = $' + f'{round(alpha, 3)}' + r' $y_0 = $' + f'{y0}')\n",
    "    plt.ylabel('y')\n",
    "    plt.xlabel('x')\n",
    "    plt.legend()\n",
    "    plt.grid()"
   ]
  },
  {
   "attachments": {},
   "cell_type": "markdown",
   "metadata": {},
   "source": [
    "#### Вывод\n",
    "\n",
    "Как видно, при подборе пристрелочного параметра метод Ньютона и бинарный поиск приводят к \n",
    "правильному ответу. Есть предположение, что метод Ньютона сходится к правильному ответу быстрее, \n",
    "однако, данный вопрос не исследовался. При этом, Реализация метода Ньютона неочевидна, требует \n",
    "переписывания функции решения ДУ и может разойтись при плохо заданном начальном условии."
   ]
  }
 ],
 "metadata": {
  "kernelspec": {
   "display_name": "Python 3",
   "language": "python",
   "name": "python3"
  },
  "language_info": {
   "codemirror_mode": {
    "name": "ipython",
    "version": 3
   },
   "file_extension": ".py",
   "mimetype": "text/x-python",
   "name": "python",
   "nbconvert_exporter": "python",
   "pygments_lexer": "ipython3",
   "version": "3.8.10"
  },
  "orig_nbformat": 4
 },
 "nbformat": 4,
 "nbformat_minor": 2
}

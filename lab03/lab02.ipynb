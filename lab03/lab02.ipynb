{
 "cells": [
  {
   "cell_type": "markdown",
   "metadata": {},
   "source": [
    "# Лабораторная работа №3 по вычислительной математике\n",
    "\n",
    "## Применение метода простой итерации и метода Ньютона для решения нелинейных уравнений и систем нелинейных уравнений\n",
    "\n",
    "### Выполнил Филиппенко Павел -- студент группы Б01-009\n",
    "\n",
    "#### Задание II.12.4 вариант и)"
   ]
  },
  {
   "cell_type": "code",
   "execution_count": 155,
   "metadata": {},
   "outputs": [],
   "source": [
    "import numpy as np\n",
    "import matplotlib.pyplot as plt\n",
    "import sympy as sp\n",
    "import math\n",
    "import scipy.optimize"
   ]
  },
  {
   "cell_type": "code",
   "execution_count": 156,
   "metadata": {},
   "outputs": [],
   "source": [
    "def f(x): return x**2 - np.exp(x)/5"
   ]
  },
  {
   "cell_type": "code",
   "execution_count": 157,
   "metadata": {},
   "outputs": [
    {
     "data": {
      "image/png": "[encoded data removed]",
      "text/plain": [
       "<Figure size 432x288 with 1 Axes>"
      ]
     },
     "metadata": {
      "needs_background": "light"
     },
     "output_type": "display_data"
    }
   ],
   "source": [
    "x = np.linspace(-2, 2, 1000)\n",
    "plt.plot(x, x**2)\n",
    "plt.plot(x, np.exp(x)/5)\n",
    "plt.grid()"
   ]
  },
  {
   "cell_type": "markdown",
   "metadata": {},
   "source": [
    "Для нелинейного уравнения \n",
    "$$x^2 - \\frac{e^x}{5} = 0$$\n",
    "составим метод простой итерации и докажем его сходимость.\n",
    "\n",
    "Метод простой итерации:\n",
    "$$x_{k + 1} = \\pm \\sqrt{\\frac{e^x}{5}}$$\n",
    "\n",
    "Достаточное условие сходимости метода простой итерации $x_{k+1} = \\varphi(x_k)$:\n",
    "$$|\\varphi_x(\\xi)'| < 1$$\n",
    "где $\\xi$ -- любое значение из области локализации.\n",
    "\n",
    "Для нашего случая:\n",
    "$$\\varphi_x' = \\frac{1}{2} \\sqrt{\\frac{e^x}{5}}$$\n",
    "\n",
    "Заметим, что для любого значения из области локализации $|\\varphi_x'| < 1 ~ \\Rightarrow$ метод сходится."
   ]
  },
  {
   "cell_type": "code",
   "execution_count": 158,
   "metadata": {},
   "outputs": [],
   "source": [
    "def MSI(initial_sol):\n",
    "    steps = 1000\n",
    "\n",
    "    x_cur = initial_sol\n",
    "    x_prev = 0\n",
    "\n",
    "    for _ in range(steps):\n",
    "        x_prev = x_cur\n",
    "\n",
    "        if initial_sol >= 0:\n",
    "            x_cur = math.sqrt(math.exp(x_prev)/5)\n",
    "        else:\n",
    "            x_cur = - math.sqrt(math.exp(x_prev)/5)\n",
    "\n",
    "    return x_cur"
   ]
  },
  {
   "cell_type": "code",
   "execution_count": 159,
   "metadata": {},
   "outputs": [
    {
     "name": "stdout",
     "output_type": "stream",
     "text": [
      "The first solution by MSI 0.61\n",
      "Validate solution 0.61\n",
      "The second solution by MSI -0.37\n",
      "Validate solution -0.37\n"
     ]
    }
   ],
   "source": [
    "solution1 = MSI(0.5)\n",
    "print('The first solution by MSI %0.2f' %solution1)\n",
    "print('Validate solution %0.2f' %(scipy.optimize.fsolve(f, [0.5])))\n",
    "\n",
    "solution2 = MSI(-0.5)\n",
    "print('The second solution by MSI %0.2f' %solution2)\n",
    "print('Validate solution %0.2f' %(scipy.optimize.fsolve(f, [-0.5])))"
   ]
  }
 ],
 "metadata": {
  "kernelspec": {
   "display_name": "Python 3.8.10 64-bit",
   "language": "python",
   "name": "python3"
  },
  "language_info": {
   "codemirror_mode": {
    "name": "ipython",
    "version": 3
   },
   "file_extension": ".py",
   "mimetype": "text/x-python",
   "name": "python",
   "nbconvert_exporter": "python",
   "pygments_lexer": "ipython3",
   "version": "3.8.10"
  },
  "orig_nbformat": 4,
  "vscode": {
   "interpreter": {
    "hash": "916dbcbb3f70747c44a77c7bcd40155683ae19c65e1c03b4aa3499c5328201f1"
   }
  }
 },
 "nbformat": 4,
 "nbformat_minor": 2
}

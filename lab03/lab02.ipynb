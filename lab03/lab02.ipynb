{
 "cells": [
  {
   "cell_type": "markdown",
   "metadata": {},
   "source": [
    "# Лабораторная работа №3 по вычислительной математике\n",
    "\n",
    "## Применение метода простой итерации и метода Ньютона для решения нелинейных уравнений и систем нелинейных уравнений\n",
    "\n",
    "### Выполнил Филиппенко Павел -- студент группы Б01-009\n",
    "\n",
    "#### Задание II.12.4 вариант и)"
   ]
  },
  {
   "cell_type": "code",
   "execution_count": 16,
   "metadata": {},
   "outputs": [],
   "source": [
    "import numpy as np\n",
    "import matplotlib.pyplot as plt\n",
    "import sympy as sp\n",
    "import math\n",
    "import scipy.optimize"
   ]
  },
  {
   "cell_type": "markdown",
   "metadata": {},
   "source": [
    "Зададим нелинейное уравнение, с которым мы будем работать"
   ]
  },
  {
   "cell_type": "code",
   "execution_count": 17,
   "metadata": {},
   "outputs": [],
   "source": [
    "def f(x): return x**2 - np.exp(x)/5"
   ]
  },
  {
   "cell_type": "markdown",
   "metadata": {},
   "source": [
    "Локализуем корни графическим методом. Таким образом, имеем 3 корня уравнения:\n",
    "$$x_1 \\in (-0.5, 0)$$\n",
    "$$x_2 \\in (0, 0.5)$$\n",
    "$$x_3 \\in (4.5, 5.0)$$"
   ]
  },
  {
   "cell_type": "code",
   "execution_count": 18,
   "metadata": {},
   "outputs": [
    {
     "data": {
      "image/png": "[encoded data removed]",
      "text/plain": [
       "<Figure size 432x288 with 1 Axes>"
      ]
     },
     "metadata": {
      "needs_background": "light"
     },
     "output_type": "display_data"
    }
   ],
   "source": [
    "x = np.linspace(-2, 5, 10000)\n",
    "plt.plot(x, x**2)\n",
    "plt.plot(x, np.exp(x)/5)\n",
    "plt.grid()"
   ]
  },
  {
   "cell_type": "markdown",
   "metadata": {},
   "source": [
    "Для нелинейного уравнения \n",
    "$$x^2 - \\frac{e^x}{5} = 0$$\n",
    "составим метод простой итерации и докажем его сходимость.\n",
    "\n",
    "Метод простой итерации в данном случае можно составить двумя способами:\n",
    "$$x_{k + 1} = \\pm \\sqrt{\\frac{e^x}{5}}$$\n",
    "$$x_{k + 1} = \\ln (5 x_k^2)$$\n",
    "\n",
    "Достаточное условие сходимости метода простой итерации $x_{k+1} = \\varphi(x_k)$:\n",
    "$$|\\varphi_x(\\xi)'| < 1$$\n",
    "где $\\xi$ -- любое значение из области локализации.\n",
    "\n",
    "Для нашего случая:\n",
    "$$\\varphi_x' = \\frac{1}{2} \\sqrt{\\frac{e^x}{5}}$$\n",
    "$$\\psi_x' = \\frac{2}{x}$$\n",
    "\n",
    "Заметим, что для любого значения из области локализации корней $x_1$ и $x_2$ $|\\varphi_x'| < 1$.\n",
    "Для любого значения $\\xi$ из области локализации корня $x_3$ выполнено $|\\psi_x'| < 1$.\n",
    "\n",
    "Таким образом, для уточнения корней $x_1$ и $x_2$ необходимо использовать \n",
    "$$x_{k + 1} = \\pm \\sqrt{\\frac{e^x}{5}}$$\n",
    "а для уточнения корня $x_3$ необходимо использовать \n",
    "$$x_{k + 1} = \\ln (5 x_k^2)$$"
   ]
  },
  {
   "cell_type": "code",
   "execution_count": 19,
   "metadata": {},
   "outputs": [],
   "source": [
    "def MSI1(initial_sol):\n",
    "    steps = 0\n",
    "    eps = 1e-3\n",
    "\n",
    "    x_cur = initial_sol\n",
    "    x_prev = 0\n",
    "\n",
    "    while(abs(x_cur - x_prev) > eps):\n",
    "        x_prev = x_cur\n",
    "        steps+=1\n",
    "\n",
    "        if initial_sol >= 0:\n",
    "            x_cur = math.sqrt(math.exp(x_prev)/5)\n",
    "        else:\n",
    "            x_cur = - math.sqrt(math.exp(x_prev)/5)\n",
    "\n",
    "    return x_cur, steps\n",
    "\n",
    "def MSI2(initial_sol):\n",
    "    steps = 0\n",
    "    eps = 1e-3\n",
    "\n",
    "    x_cur = initial_sol\n",
    "    x_prev = 0\n",
    "\n",
    "    while(abs(x_cur - x_prev) > eps):\n",
    "        x_prev = x_cur\n",
    "        steps+=1\n",
    "\n",
    "        x_cur = math.log(5 * x_prev**2)\n",
    "\n",
    "    return x_cur, steps"
   ]
  },
  {
   "cell_type": "code",
   "execution_count": 20,
   "metadata": {},
   "outputs": [
    {
     "name": "stdout",
     "output_type": "stream",
     "text": [
      "The first solution by MSI 0.61 (achieved by 5 steps)\n",
      "Validate solution 0.61\n",
      "The second solution by MSI -0.37 (achieved by 4  steps)\n",
      "Validate solution -0.37\n",
      "The second solution by MSI 4.71 (achieved by 7  steps)\n",
      "Validate solution 4.71\n"
     ]
    }
   ],
   "source": [
    "solution1, steps1 = MSI1(0.5)\n",
    "print('The first solution by MSI %0.2f (achieved by %d steps)' %(solution1, steps1))\n",
    "print('Validate solution %0.2f' %(scipy.optimize.fsolve(f, [0.5])))\n",
    "\n",
    "solution2, steps2 = MSI1(-0.5)\n",
    "print('The second solution by MSI %0.2f (achieved by %d  steps)' %(solution2, steps2))\n",
    "print('Validate solution %0.2f' %(scipy.optimize.fsolve(f, [-0.5])))\n",
    "\n",
    "solution3, steps3 = MSI2(4.5)\n",
    "print('The second solution by MSI %0.2f (achieved by %d  steps)' %(solution3, steps3))\n",
    "print('Validate solution %0.2f' %(scipy.optimize.fsolve(f, [4.5])))"
   ]
  },
  {
   "cell_type": "markdown",
   "metadata": {},
   "source": [
    "Покажем наглядно, что бывает, если использовать метод простой итерации вне области его сходимости."
   ]
  },
  {
   "cell_type": "code",
   "execution_count": 21,
   "metadata": {},
   "outputs": [
    {
     "name": "stdout",
     "output_type": "stream",
     "text": [
      "The first solution by MSI 4.71 (achieved by 14 steps)\n",
      "Validate solution 0.61\n",
      "The second solution by MSI 4.71 (achieved by 14  steps)\n",
      "Validate solution -0.37\n",
      "The second solution by MSI 0.61 (achieved by 12  steps)\n",
      "Validate solution 4.71\n"
     ]
    }
   ],
   "source": [
    "solution1, steps1 = MSI2(0.5)\n",
    "print('The first solution by MSI %0.2f (achieved by %d steps)' %(solution1, steps1))\n",
    "print('Validate solution %0.2f' %(scipy.optimize.fsolve(f, [0.5])))\n",
    "\n",
    "solution2, steps2 = MSI2(-0.5)\n",
    "print('The second solution by MSI %0.2f (achieved by %d  steps)' %(solution2, steps2))\n",
    "print('Validate solution %0.2f' %(scipy.optimize.fsolve(f, [-0.5])))\n",
    "\n",
    "solution3, steps3 = MSI1(4.5)\n",
    "print('The second solution by MSI %0.2f (achieved by %d  steps)' %(solution3, steps3))\n",
    "print('Validate solution %0.2f' %(scipy.optimize.fsolve(f, [4.5])))"
   ]
  },
  {
   "cell_type": "markdown",
   "metadata": {},
   "source": [
    "Решим систему нелинейных уравнений \n",
    "$$\n",
    "\\begin{cases}\n",
    "    \\tg (xy + 0.4) - x^2 = 0 \\\\\n",
    "    0.6 x^2 + 2 y^2 - 1 = 0 \\\\\n",
    "\\end{cases}\n",
    "$$\n",
    "методом Ньютона."
   ]
  },
  {
   "cell_type": "markdown",
   "metadata": {},
   "source": [
    "Общий вид метода Ньютона:\n",
    "\n",
    "$$x_{k+1} = x_k - J^{-1} F(x_k)$$\n",
    "\n",
    "где $x_k$ -- столбец решений, $J$ -- якобиан системы, $F = (f_1, f_2 , \\dots, f_n)$ -- столбец функций системы."
   ]
  },
  {
   "cell_type": "markdown",
   "metadata": {},
   "source": [
    "Для нашей системы\n",
    "\n",
    "$$F =\n",
    "\\begin{pmatrix}\n",
    "    f_1 \\\\\n",
    "    f_2 \\\\\n",
    "\\end{pmatrix} = \n",
    "\\begin{pmatrix}\n",
    "    \\tg (xy + 0.4) - x^2 \\\\\n",
    "    0.6 x^2 + 2 y^2 - 1 \\\\\n",
    "\\end{pmatrix}\n",
    "$$\n",
    "\n",
    "$$ J = \n",
    "\\begin{pmatrix}\n",
    "    \\frac{\\partial f_1}{\\partial x} ~ \\frac{\\partial f_1}{\\partial y} \\\\\n",
    "    \\frac{\\partial f_2}{\\partial x} ~ \\frac{\\partial f_2}{\\partial y} \\\\\n",
    "\\end{pmatrix}\n",
    "$$\n",
    "\n",
    "$\\frac{\\partial f_1}{\\partial x} = \\frac{y}{\\cos^2 (xy + 0.4)} - 2x$;\n",
    "$\\frac{\\partial f_1}{\\partial y} = \\frac{y}{\\cos^2 (xy + 0.4)}$;\n",
    "$\\frac{\\partial f_2}{\\partial x} = 1.2 x$;\n",
    "$\\frac{\\partial f_2}{\\partial y} = 4 y$;\n",
    "\n",
    "Поскольку в данном случае $J$ -- матрица $2 \\times 2$ найти обратную к ней нетрудно:\n",
    "\n",
    "$$J^{-1} = \\frac{1}{\\det J}\n",
    "\\begin{pmatrix}\n",
    "    \\frac{\\partial f_2}{\\partial y} ~ \\frac{- \\partial f_1}{\\partial y} \\\\\n",
    "    \\frac{- \\partial f_2}{\\partial x} ~ \\frac{\\partial f_1}{\\partial x}\n",
    "\\end{pmatrix}\n",
    "$$\n",
    "\n",
    "где $\\det J$ -- детерминант матрицы\n",
    "\n",
    "$$\\det J = \\frac{\\partial f_1}{\\partial x} \\frac{\\partial f_2}{\\partial y} - \\frac{\\partial f_1}{\\partial y} \\frac{\\partial f_2}{\\partial x}$$"
   ]
  },
  {
   "cell_type": "code",
   "execution_count": 22,
   "metadata": {},
   "outputs": [],
   "source": [
    "# Поскольку мы работаем с конктретной системой нелинейных уравнений, а програмное нахождение\n",
    "# частных поизводных накладывает большую вычислительную ошибку,\n",
    "# в данном конкретном случае будет выгоднее захардкодить все математичсекие выражения\n",
    "# вместо того, чтобы писать в общем виде\n",
    "\n",
    "# The set of equations\n",
    "F = {}\n",
    "F['f1'] = lambda x, y : np.tan(x*y + 0.4) - x**2\n",
    "F['f2'] = lambda x, y : 0.6 * x**2 + 2 * y**2 - 1"
   ]
  },
  {
   "cell_type": "markdown",
   "metadata": {},
   "source": [
    "Локализуем корни уравнения, используя графический метод. По графику можно качественно определить \n",
    "положение корней с точностью до 1 знака после запятой.\n",
    "\n",
    "$$x_1 \\in (1, 1.1)     ~~ y_1 \\in (0.3, 0.5)$$\n",
    "$$x_2 \\in (0.3, 0.5)   ~~ y_2 \\in (-0.6, -0.8)$$\n",
    "$$x_3 \\in (-1, -1.1)   ~~ y_3 \\in (-0.3, -0.5)$$\n",
    "$$x_4 \\in (-0.3, -0.5) ~~ y_4 \\in (0.5, 0.7)$$"
   ]
  },
  {
   "cell_type": "code",
   "execution_count": 23,
   "metadata": {},
   "outputs": [
    {
     "data": {
      "image/png": "[encoded data removed]",
      "text/plain": [
       "<Figure size 432x288 with 1 Axes>"
      ]
     },
     "metadata": {
      "needs_background": "light"
     },
     "output_type": "display_data"
    }
   ],
   "source": [
    "# ATTENTION\n",
    "# This cell may take a long time to execute\n",
    "# or it can lead to some errors with kernal\n",
    "# in this case just rerun all cells or just this cell again\n",
    "\n",
    "xrange = np.linspace(-2, 2, 10000)\n",
    "yrange = np.linspace(-2, 2, 10000)\n",
    "X, Y = np.meshgrid(xrange, yrange)\n",
    "f1 = F['f1'](X,Y) \n",
    "f2 = F['f2'](X, Y)\n",
    "plt.contour(X, Y, f1, [0])\n",
    "plt.contour(X, Y, f2, [0])\n",
    "plt.minorticks_on()\n",
    "plt.grid(which = 'major', color = 'black', linewidth = 1, linestyle = '-', alpha = 0.75)\n",
    "plt.grid(which = 'minor', color = 'grey', linewidth = 1, linestyle = '--', alpha = 0.5)"
   ]
  },
  {
   "cell_type": "code",
   "execution_count": 24,
   "metadata": {},
   "outputs": [],
   "source": [
    "J = {}\n",
    "J['df1x'] = lambda x, y : y / (np.cos(x*y + 0.4)**2) - 2*x\n",
    "J['df1y'] = lambda x, y : y / (np.cos(x*y + 0.4)**2)\n",
    "J['df2x'] = lambda x, y : 1.2*x\n",
    "J['df2y'] = lambda x, y : 4*x\n",
    "\n",
    "# return the value\n",
    "# it's need to give x and y, cause the multiplication of functions is unsupported operation\n",
    "def det_J(J, x, y):\n",
    "    return J['df1x'](x, y) * J['df2y'](x, y) - J['df1y'](x, y) * J['df2x'](x, y)"
   ]
  },
  {
   "cell_type": "code",
   "execution_count": 25,
   "metadata": {},
   "outputs": [],
   "source": [
    "def Newtons_M(init_x, init_y):\n",
    "    steps = 0\n",
    "    eps = 1e-3\n",
    "\n",
    "    x_cur = init_x\n",
    "    y_cur = init_y\n",
    "    x_prev = 0\n",
    "    y_prev = 0\n",
    "\n",
    "    while((abs(x_cur - x_prev) > eps) or (abs(y_cur - y_prev) > eps)):\n",
    "        x_prev = x_cur\n",
    "        y_prev = y_cur\n",
    "        steps+=1\n",
    "\n",
    "        x_cur = x_prev - (1 / det_J(J, x_prev, y_prev)) * (J['df2y'](x_prev, y_prev) * F['f1'](x_prev, y_prev) - J['df1y'](x_prev, y_prev) * F['f2'](x_prev, y_prev))\n",
    "        y_cur = y_prev - (1 / det_J(J, x_prev, y_prev)) * (- J['df2x'](x_prev, y_prev) * F['f1'](x_prev, y_prev) + J['df1x'](x_prev, y_prev) * F['f2'](x_prev, y_prev))\n",
    "\n",
    "    return x_cur, y_cur, steps"
   ]
  },
  {
   "cell_type": "code",
   "execution_count": 26,
   "metadata": {},
   "outputs": [
    {
     "name": "stdout",
     "output_type": "stream",
     "text": [
      "The first solution (1.05, 0.41), achieved by 4 steps\n",
      "The third solution (-1.05, -0.41), achieved by 4 steps\n"
     ]
    }
   ],
   "source": [
    "# Note: as in Newton's method we divide by det J, we can not use initial x = 0 (devision by zero)\n",
    "\n",
    "x1, y1, steps1 = Newtons_M(1.05, 0.4)\n",
    "x3, y3, steps3 = Newtons_M(-1.05, -0.4)\n",
    "\n",
    "print('The first solution (%0.2f, %0.2f), achieved by %d steps' %(x1, y1, steps1))\n",
    "print('The third solution (%0.2f, %0.2f), achieved by %d steps' %(x3, y3, steps3))"
   ]
  },
  {
   "cell_type": "markdown",
   "metadata": {},
   "source": [
    "Полученный метод имеет область сходимости. Так, при поиске 2 и 4 корней, метод начинает расходиться и происходит переполнение."
   ]
  },
  {
   "cell_type": "code",
   "execution_count": 27,
   "metadata": {},
   "outputs": [
    {
     "name": "stdout",
     "output_type": "stream",
     "text": [
      "The second solution (nan, nan), achieved by 307\n",
      "The 4th solution (nan, nan), achieved by 315\n"
     ]
    },
    {
     "name": "stderr",
     "output_type": "stream",
     "text": [
      "/tmp/ipykernel_115001/3141661888.py:15: RuntimeWarning: overflow encountered in double_scalars\n",
      "  x_cur = x_prev - (1 / det_J(J, x_prev, y_prev)) * (J['df2y'](x_prev, y_prev) * F['f1'](x_prev, y_prev) - J['df1y'](x_prev, y_prev) * F['f2'](x_prev, y_prev))\n",
      "/tmp/ipykernel_115001/3141661888.py:16: RuntimeWarning: overflow encountered in double_scalars\n",
      "  y_cur = y_prev - (1 / det_J(J, x_prev, y_prev)) * (- J['df2x'](x_prev, y_prev) * F['f1'](x_prev, y_prev) + J['df1x'](x_prev, y_prev) * F['f2'](x_prev, y_prev))\n",
      "/tmp/ipykernel_115001/2358461412.py:2: RuntimeWarning: invalid value encountered in cos\n",
      "  J['df1x'] = lambda x, y : y / (np.cos(x*y + 0.4)**2) - 2*x\n",
      "/tmp/ipykernel_115001/2358461412.py:3: RuntimeWarning: invalid value encountered in cos\n",
      "  J['df1y'] = lambda x, y : y / (np.cos(x*y + 0.4)**2)\n",
      "/tmp/ipykernel_115001/1705744133.py:8: RuntimeWarning: invalid value encountered in tan\n",
      "  F['f1'] = lambda x, y : np.tan(x*y + 0.4) - x**2\n"
     ]
    }
   ],
   "source": [
    "x2, y2, steps2 = Newtons_M(0.4, -0.7)\n",
    "x4, y4, steps4 = Newtons_M(-0.4, -0.6)\n",
    "\n",
    "print('The second solution (%0.2f, %0.2f), achieved by %d' %(x2, y2, steps2))\n",
    "print('The 4th solution (%0.2f, %0.2f), achieved by %d' %(x4, y4, steps4))"
   ]
  },
  {
   "cell_type": "markdown",
   "metadata": {},
   "source": [
    "## Вывод\n",
    "\n",
    "Как мы увидели из данной работы, метод простой итерации для решения нелинейных уранвений почти всегда\n",
    "требует индивидуального подхода, так как необходимо не только составить метод на основе данного\n",
    "уравнения (а это можно сделать несколькими способами), но и выбрать сходящийся в рабочей области вариант.\n",
    "\n",
    "Применение численных методов решения вне области их сходимости может привести к чудовищным ошибкам.\n",
    "\n",
    "Локализация корней -- важный этап решения нелинейных уравнений. Использование одного метода локализации\n",
    "может оказаться недостаточным. Данный шаг требует комплексного подхода (например графический метод в \n",
    "совокупности с исследованием функции методами математического анализа).\n",
    "\n",
    "Метод Ньютона для решения систем нелинейных уравнений является быстросходяшимся (это можно видеть по \n",
    "количеству итераций, за которое была достигнута заданная точность). Так же, мы убедились, что не все\n",
    "корни системы могут быть найдены таким способом, так как метод имеет область сходимости."
   ]
  }
 ],
 "metadata": {
  "kernelspec": {
   "display_name": "Python 3.8.10 64-bit",
   "language": "python",
   "name": "python3"
  },
  "language_info": {
   "codemirror_mode": {
    "name": "ipython",
    "version": 3
   },
   "file_extension": ".py",
   "mimetype": "text/x-python",
   "name": "python",
   "nbconvert_exporter": "python",
   "pygments_lexer": "ipython3",
   "version": "3.8.10"
  },
  "orig_nbformat": 4,
  "vscode": {
   "interpreter": {
    "hash": "916dbcbb3f70747c44a77c7bcd40155683ae19c65e1c03b4aa3499c5328201f1"
   }
  }
 },
 "nbformat": 4,
 "nbformat_minor": 2
}

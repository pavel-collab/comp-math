{
 "cells": [
  {
   "cell_type": "markdown",
   "metadata": {},
   "source": [
    "# Оабораторная работа №2 по вычислительной математике\n",
    "\n",
    "## Прменение прямых и итерационных методов для решения СЛАУ\n",
    "\n",
    "### Выполнил Филиппенко Павел -- студент группы Б01-009\n",
    "\n",
    "#### Задание II.10.5 вариант у)"
   ]
  },
  {
   "cell_type": "code",
   "execution_count": 82,
   "metadata": {},
   "outputs": [],
   "source": [
    "import numpy as np\n",
    "import matplotlib.pyplot as plt\n",
    "import sympy as sp\n",
    "import math\n",
    "import copy"
   ]
  },
  {
   "cell_type": "markdown",
   "metadata": {},
   "source": [
    "##### Зададим нормы векторов\n",
    "\n",
    "$$||x||_1 = max_i |x_i|$$\n",
    "\n",
    "$$||x||_2 = \\sum |x_i|$$\n",
    "\n",
    "$$||x||_2 = (x, x)$$"
   ]
  },
  {
   "cell_type": "code",
   "execution_count": 83,
   "metadata": {},
   "outputs": [],
   "source": [
    "def fst_vec_norm(x: np.ndarray):\n",
    "    return max(abs(x))\n",
    "\n",
    "def scd_vec_norm(x: np.ndarray):\n",
    "    return sum(abs(x))\n",
    "\n",
    "def trd_vec_norm(x: np.ndarray):\n",
    "    return math.sqrt(np.dot(x, x))"
   ]
  },
  {
   "cell_type": "markdown",
   "metadata": {},
   "source": [
    "##### Зададим нормы матриц\n",
    "\n",
    "(по строкам)\n",
    "$$||A||_1 = \\max \\limits_i \\sum_j |a_{ij}|$$\n",
    "\n",
    "(по столбцам)\n",
    "$$||A||_2 = \\max \\limits_j \\sum_i |a_{ij}|$$\n",
    "\n",
    "$$||A||_3 = \\sqrt{\\max \\limits_i \\lambda_i(A^* A)}$$\n",
    "\n",
    "Поскольку в данной работе мы рассмотриваем матрицы действительного пространства, $A^* = A^T$"
   ]
  },
  {
   "cell_type": "code",
   "execution_count": 84,
   "metadata": {},
   "outputs": [],
   "source": [
    "def fst_m_norm(A: np.ndarray):\n",
    "    assert(A.shape[0] == A.shape[1])\n",
    "    return max([sum(abs(A[i])) for i in range(A.shape[0])])\n",
    "\n",
    "def scd_m_norm(A: np.ndarray):\n",
    "    assert(A.shape[0] == A.shape[1])\n",
    "    return max([sum(abs(A.T[i])) for i in range(A.T.shape[0])])\n",
    "\n",
    "# поскольку работаем в R, эрмитово сопряжение эквивалентвно транспонированию\n",
    "def trd_m_norm(A: np.ndarray):\n",
    "    B = np.dot(A.T, A)\n",
    "    num, _ =  np.linalg.eigh(B)\n",
    "    print(num)\n",
    "    return math.sqrt(max(num))"
   ]
  },
  {
   "cell_type": "markdown",
   "metadata": {},
   "source": [
    "##### Класс Slae представляет систему линейных уравнений.\n",
    "\n",
    "_Поля_:\n",
    "- A -- матрица системы\n",
    "- f -- столбец решений\n",
    "\n",
    "_Методы_:   \n",
    "В данной классе реализованы 5 методов численного решения системы линейных уравнений. Метод Гауса, LU-разложения, метод Холецкого, \n",
    "метод верхней релаксации и метод Зейделя.\n",
    "\n",
    "Так же в качестве приватных методов класса реализованы некоторые функции проверки, накладывающие ограничения на решение системы \n",
    "тем или иным способом (например, мы не можем применять LU-разложение, если матрица имеет хотя бы один нулевойглавный угловой \n",
    "минор)."
   ]
  },
  {
   "cell_type": "markdown",
   "metadata": {},
   "source": [
    "#### Приведем краткие теоретические сведенья по некоторым методам\n",
    "\n",
    "##### Метод LU-разложения\n",
    "\n",
    "Метод предполагает разложение матрицы $A$ на произведение верхне и нижнетреугольных матриц $A = LU$ и переход от системы\n",
    "$$A x = f$$\n",
    "к системе\n",
    "$$\n",
    "\\begin{cases}\n",
    "L v = f \\\\ \n",
    "U x = v\n",
    "\\end{cases}\n",
    "$$\n",
    "\n",
    "Для вычисления компонент $l_{ij}$ нижнетреугольной и компонентов $d_{ij}$ верхнетреугольной матриц используем формулы\n",
    "$$d_{ij} = a_{ij} - \\sum_{k = 1}^{i - 1} l_{ik} d_{kj}$$\n",
    "$$l_{ij} = \\frac{1}{d_{jj}} (a_{ij} - \\sum_{k = 1}^{j - 1}l_{ik} d_{kj})$$\n",
    "\n",
    "##### Метод Холецкого\n",
    "\n",
    "Метод Холецкого напоминает  метод LU-разложения, но применяется в случае, когда матрица исходного уравнения симметричная $A = \n",
    "A^T$. В этом сучае $A = L L^T$ и компоненты матрицы $L$ можно вычислить по формулам\n",
    "\n",
    "$$l_{kk} = \\sqrt{a_{kk} - \\sum l_{kj}^2}$$\n",
    "$$l_{ik} = \\frac{a_{ik} - \\sum l_{ij}l_{kj}}{l_{ii}}$$\n",
    "\n",
    "##### Метод верхней релаксации\n",
    "\n",
    "Метод верхней релаксации является итерационным методом. Для его реализации необходимо составить итерационную формулу\n",
    "\n",
    "$$x_{k + 1} = B x_{k} + F$$\n",
    "\n",
    "где $k$ -- номер итерации, $B = E - A$, $F = f$.   \n",
    "\n",
    "Для того чтобы контролировать итерационный процесс, можно задать специальный итерационный параметр $\\tau$, тогда матод примет \n",
    "следующий вид\n",
    "\n",
    "$$x_{k + 1} = (E - \\tau A) x_k + \\tau f$$\n",
    "\n",
    "##### Метод Зейделя\n",
    "\n",
    "Итерационный метод, который предполагает разбиение исходной матрицы на сумму верхне и нижнетреугольной, а так же диагональной.\n",
    "$A = L + D + U$ в этом случае итерационный процесс выглядит следующим образом\n",
    "\n",
    "$$x_{k+1} = -(L + D)^{-1} U x_k + (L + D)^{-1} f$$"
   ]
  },
  {
   "cell_type": "code",
   "execution_count": 85,
   "metadata": {},
   "outputs": [],
   "source": [
    "# this is a round parametr. We need it only for visualisation system (overloar __str__)\n",
    "# it doesn't influence on the computations\n",
    "round_n = 3\n",
    "\n",
    "class Slae:\n",
    "    def __init__(self, matrix: np.ndarray, values: np.ndarray):\n",
    "\n",
    "        # assert(matrix.shape[0] == matrix.shape[1])\n",
    "        # assert(matrix.shape[0] == values.shape[0])\n",
    "        \n",
    "        self.A = matrix\n",
    "        self.f = values\n",
    "\n",
    "    #================================================Приватные методы и декараторы================================================#\n",
    "\n",
    "    @property\n",
    "    def dimention(self):\n",
    "        return self.A.shape[0]\n",
    "\n",
    "    def __CheckSymmetric(self, tol=1e-16):\n",
    "        return not False in (np.abs(self.A-self.A.T) < tol)\n",
    "\n",
    "    def __IsLU_compatible(self):\n",
    "        N = self.dimention\n",
    "        A = self.A.astype(float, copy=True)\n",
    "\n",
    "        for i in range(1, N+1):\n",
    "            M = A[:i, :i]\n",
    "\n",
    "            if np.linalg.det(M) == 0:\n",
    "                return False\n",
    "\n",
    "        return True\n",
    "\n",
    "    def __SylvesterCriterion(self):\n",
    "        N = self.dimention\n",
    "        A = self.A.astype(float, copy=True)\n",
    "\n",
    "        for i in range(1, N+1):\n",
    "            M = A[:i, :i]\n",
    "\n",
    "            if np.linalg.det(M) < 0:\n",
    "                return False\n",
    "\n",
    "        return True\n",
    "\n",
    "    def __LU_decomposition(self):\n",
    "        N = self.dimention\n",
    "        A = self.A.astype(float, copy=True)\n",
    "\n",
    "        \"\"\"Decompose matrix of coefficients to L and U matrices.\n",
    "        L and U triangular matrices will be represented in a single nxn matrix.\n",
    "        :param a: numpy matrix of coefficients\n",
    "        :return: numpy LU matrix\n",
    "        \"\"\"\n",
    "        # create emtpy LU-matrix\n",
    "        lu_matrix = np.matrix(np.zeros([N, N]))\n",
    "\n",
    "        for k in range(N):\n",
    "            # calculate all residual k-row elements\n",
    "            for j in range(k, N):\n",
    "                lu_matrix[k, j] = A[k, j] - lu_matrix[k, :k] * lu_matrix[:k, j]\n",
    "            # calculate all residual k-column elemetns\n",
    "            for i in range(k + 1, N):\n",
    "                lu_matrix[i, k] = (A[i, k] - lu_matrix[i, : k] * lu_matrix[: k, k]) / lu_matrix[k, k]\n",
    "\n",
    "        \"\"\"Get triangular L matrix from a single LU-matrix\n",
    "        :param m: numpy LU-matrix\n",
    "        :return: numpy triangular L matrix\n",
    "        \"\"\"\n",
    "        L = lu_matrix.copy()\n",
    "        for i in range(L.shape[0]):\n",
    "                L[i, i] = 1\n",
    "                L[i, i+1 :] = 0\n",
    "\n",
    "        \"\"\"Get triangular U matrix from a single LU-matrix\n",
    "        :param m: numpy LU-matrix\n",
    "        :return: numpy triangular U matrix\n",
    "        \"\"\"\n",
    "        U = lu_matrix.copy()\n",
    "        for i in range(1, U.shape[0]):\n",
    "            U[i, :i] = 0\n",
    "        \n",
    "        return L, U\n",
    "    #==================================================Численные методы==================================================#\n",
    "\n",
    "    def Gauss_mthd(self):\n",
    "\n",
    "        '''\n",
    "        Here is some explonation why do we do what we do.\n",
    "\n",
    "        Firstly, in the begining some matrices could have type int, but then we do some operations that can change their type.\n",
    "        So, we change their type right in the top of method, to avoid errors.\n",
    "\n",
    "        Secondly, when we write\n",
    "        a = b\n",
    "        python use links default. This mean -- if we modify object a, the object b is modified too.\n",
    "        So, to save invariant of self.A we copy it in every method.\n",
    "        '''\n",
    "        A = self.A.astype(float, copy=True)\n",
    "        f = self.f.astype(float, copy=True)\n",
    "        N = self.dimention\n",
    "\n",
    "        # straight\n",
    "        for k in range(N):\n",
    "            for m in range(k+1, N):\n",
    "\n",
    "                alpha = A[m][k] / A[k][k]\n",
    "\n",
    "                f[m] = f[m] - f[k] * alpha \n",
    "                for i in range(k, N):\n",
    "                    A[m][i] = A[m][i] - A[k][i] * alpha\n",
    "\n",
    "        # reverce\n",
    "        solution = np.full((N, ), 0.0)\n",
    "        \n",
    "        # as indexes in python start from 0 and finish n-1, the last equation has index n-1\n",
    "        solution[N-1] = f[N-1] / A[N-1][N-1]\n",
    "\n",
    "        # the second from tail equation has index n-2\n",
    "        # as function range() returns semi-open interval, the second parametr is -1 instead of 0\n",
    "        for k in range(N-2, 0-1, -1):\n",
    "            solution[k] = 1 / A[k][k] * (f[k] - np.dot(A[k], solution))\n",
    "\n",
    "        return solution\n",
    "\n",
    "\n",
    "    def LU_mthd(self):\n",
    "\n",
    "        if self.__IsLU_compatible() == False:\n",
    "            print('[-] Error. Sorry, this problem could not be solved by LU method')\n",
    "            return None\n",
    "\n",
    "        A = self.A.astype(float, copy=True)\n",
    "        f = self.f.astype(float, copy=True)\n",
    "        N = self.dimention\n",
    "\n",
    "        L, U = self.__LU_decomposition()\n",
    "\n",
    "        solution_level1 = np.full((N, ), 0.0)\n",
    "        solution_level2 = np.full((N, ), 0.0)\n",
    "\n",
    "        solution_level1[0] = f[0] / L[0, 0]\n",
    "\n",
    "        for i in range(1, N):\n",
    "            solution_level1[i] = 1 / L[i, i] * (f[i] - np.dot(L[i], solution_level1))\n",
    "\n",
    "        solution_level2[N-1] = solution_level1[N-1] / U[N-1, N-1]\n",
    "\n",
    "        \n",
    "        for k in range(N-2, 0-1, -1):\n",
    "            solution_level2[k] = 1 / U[k, k] * (solution_level1[k] - np.dot(U[k], solution_level2))\n",
    "\n",
    "        return solution_level2\n",
    "\n",
    "\n",
    "    def Cholesky_mthd(self):\n",
    "        \n",
    "        if self.__CheckSymmetric() or self.__SylvesterCriterion:\n",
    "            print('[-] Error. Sorry, this problem could not be solved by Cholesky method')\n",
    "            return None\n",
    "\n",
    "        A = self.A.astype(float, copy=True)\n",
    "        f = self.f.astype(float, copy=True)\n",
    "        N = self.dimention\n",
    "\n",
    "        L = np.zeros([N, N])\n",
    "\n",
    "        for j in range(0, N):\n",
    "            LSum = 0.0\n",
    "            for k in range(0, j):\n",
    "                LSum += L[j, k] * L[j, k]\n",
    "\n",
    "            L[j, j] = np.sqrt(A[j, j] - LSum)\n",
    "\n",
    "            for i in range(j + 1, N):\n",
    "                LSum = 0.0\n",
    "                for k in range(0, j):\n",
    "                    LSum += L[i, k] * L[j, k]\n",
    "                L[i][j] = (1.0 / L[j, j] * (A[i, j] - LSum))\n",
    "        \n",
    "        solution_level1 = np.full((N, ), 0.0)\n",
    "        solution_level2 = np.full((N, ), 0.0)\n",
    "\n",
    "        solution_level1[0] = f[0] / L[0, 0]\n",
    "\n",
    "        U = L.T\n",
    "\n",
    "        for i in range(1, N):\n",
    "            solution_level1[i] = 1 / L[i, i] * (self.f[i] - np.dot(L[i], solution_level1))\n",
    "\n",
    "        solution_level2[N-1] = solution_level1[N-1] / U[N-1, N-1]\n",
    "\n",
    "        \n",
    "        for k in range(N-2, 0-1, -1):\n",
    "            solution_level2[k] = 1 / U[k, k] * (solution_level1[k] - np.dot(U[k], solution_level2))\n",
    "\n",
    "        return solution_level2\n",
    "        \n",
    "    \n",
    "    def UpperRelaxation(self, w=1.5, UR=True):\n",
    "        '''\n",
    "        What is the UR?\n",
    "        As you can see, the Seidel is a particular case of Upper Relaxation. So, we use UpperRelaxation() with w=1\n",
    "        to Seidel_mthd. But in the classic Upper Relaxation w must be in (1, 2), so we need to add verefication\n",
    "        in UpperRelaxation function.\n",
    "        To avoid errors in Seidel_mthd (with w=1) we add one more function field UR that is True if we in the classic\n",
    "        Upper Relaxation method (we want to vereficate 1 < w < 2) and False in other method that use UpperRelaxation as base.\n",
    "        '''    \n",
    "        if (not (1 < w < 2)) and UR:\n",
    "            print('[-] Error. In the Upper relaxation method wight w must be in 1 < w < 2\\n'\n",
    "                  'Change the wight and try again.')\n",
    "            return None\n",
    "\n",
    "        # accuracy\n",
    "        eps = 1e-6  \n",
    "\n",
    "        A = self.A.astype(float, copy=True)\n",
    "        f = self.f.astype(float, copy=True)     \n",
    "        N = self.dimention\n",
    "\n",
    "        D = np.eye(N) * np.diag(A)\n",
    "        U = np.triu(A) - D\n",
    "        L = np.tril(A) - D\n",
    "\n",
    "        B = np.dot(np.linalg.inv(L*w + D), D*(w - 1) + U*w)\n",
    "        F = np.linalg.inv(L*w + D)\n",
    "\n",
    "        solution_prev = np.full((N, ), 0.0)\n",
    "        solution_cur = np.full((N, ), 0.0)\n",
    "\n",
    "        while(trd_vec_norm(f - np.dot(A, solution_cur)) > eps):\n",
    "            solution_prev = solution_cur\n",
    "            solution_cur = - np.dot(B, solution_prev) + np.dot(F*w, f)\n",
    "\n",
    "        return solution_cur\n",
    "\n",
    "    def Seidel_mthd(self):\n",
    "        res = self.UpperRelaxation(w=1, UR=False)\n",
    "        return res\n",
    "\n",
    "    #==================================================Другие функции класса==================================================#\n",
    "\n",
    "    ## overloading output\n",
    "    def __str__(self):\n",
    "        n = self.dimention\n",
    "\n",
    "        res = ''\n",
    "        for i in range(n):\n",
    "            string = ''\n",
    "            for j in range(n):\n",
    "                string = string + str(round(self.A[i][j], round_n)) + ' x{}'.format(j + 1)\n",
    "                # string = string + str(self.A[i][j]) + ' x{}'.format(j + 1)\n",
    "                if j != n - 1:\n",
    "                    string = string + ' + '\n",
    "                else:\n",
    "                    string = string + ' = ' + str(round(self.f[i], round_n))\n",
    "                    # string = string + ' = ' + str(self.f[i])\n",
    "            string = string + '\\n'\n",
    "            res = res + string\n",
    "\n",
    "        return res"
   ]
  },
  {
   "cell_type": "markdown",
   "metadata": {},
   "source": [
    "##### Зададим систему уравнений через матрицу и столбей решений."
   ]
  },
  {
   "cell_type": "code",
   "execution_count": 86,
   "metadata": {},
   "outputs": [
    {
     "name": "stdout",
     "output_type": "stream",
     "text": [
      "[[1.    0.25  0.2   0.167 0.143 0.125 0.111 0.1   0.091 0.083 0.077 0.071]\n",
      " [0.167 1.    0.125 0.111 0.1   0.091 0.083 0.077 0.071 0.067 0.062 0.059]\n",
      " [0.091 0.083 1.    0.071 0.067 0.062 0.059 0.056 0.053 0.05  0.048 0.045]\n",
      " [0.056 0.053 0.05  1.    0.045 0.043 0.042 0.04  0.038 0.037 0.036 0.034]\n",
      " [0.037 0.036 0.034 0.033 1.    0.031 0.03  0.029 0.029 0.028 0.027 0.026]\n",
      " [0.026 0.026 0.025 0.024 0.024 1.    0.023 0.022 0.022 0.021 0.021 0.02 ]\n",
      " [0.02  0.019 0.019 0.019 0.018 0.018 1.    0.017 0.017 0.017 0.016 0.016]\n",
      " [0.015 0.015 0.015 0.014 0.014 0.014 0.014 1.    0.014 0.013 0.013 0.013]\n",
      " [0.012 0.012 0.012 0.012 0.011 0.011 0.011 0.011 1.    0.011 0.011 0.011]\n",
      " [0.01  0.01  0.01  0.01  0.009 0.009 0.009 0.009 0.009 1.    0.009 0.009]\n",
      " [0.008 0.008 0.008 0.008 0.008 0.008 0.008 0.008 0.008 0.008 1.    0.007]\n",
      " [0.007 0.007 0.007 0.007 0.007 0.007 0.007 0.007 0.006 0.006 0.006 1.   ]]\n"
     ]
    }
   ],
   "source": [
    "N = 12\n",
    "A = np.eye(N)\n",
    "f = np.full((N, ), 1.0)\n",
    "\n",
    "\n",
    "for i in range(N):\n",
    "    for j in range(N):\n",
    "        if i == j:\n",
    "            A[i][j] = 1\n",
    "        else:\n",
    "            A[i][j] = 1 / ((i+1)**2 + (j+2))\n",
    "    f[i] = 1 / (i + 1)\n",
    "\n",
    "eq = Slae(A, f)\n",
    "print(np.round(A, 3))"
   ]
  },
  {
   "cell_type": "markdown",
   "metadata": {},
   "source": [
    "Для того, чтобы валидировать решение системы, полученное применением численных методов, получим заведомо верное решение с помощью\n",
    "библиотечных функций."
   ]
  },
  {
   "cell_type": "code",
   "execution_count": 87,
   "metadata": {},
   "outputs": [
    {
     "name": "stdout",
     "output_type": "stream",
     "text": [
      "Решение уравнения с помощтю библиотечных функций:\n",
      " [0.79080671 0.26806589 0.18548228 0.15212351 0.13152179 0.11645515\n",
      " 0.1046237  0.09498995 0.08696674 0.08017503 0.07435118 0.06930326]\n"
     ]
    }
   ],
   "source": [
    "sol_verefication = np.linalg.solve(A, f)\n",
    "print('Решение уравнения с помощтю библиотечных функций:\\n', sol_verefication)"
   ]
  },
  {
   "cell_type": "markdown",
   "metadata": {},
   "source": [
    "Решим полученное уравнение всеми возможными методами и расчитае невязку по каждому методу."
   ]
  },
  {
   "cell_type": "code",
   "execution_count": 88,
   "metadata": {},
   "outputs": [
    {
     "name": "stdout",
     "output_type": "stream",
     "text": [
      "Решение уравнения методом Гауса:\n",
      " [0.79080671 0.26806589 0.18548228 0.15212351 0.13152179 0.11645515\n",
      " 0.1046237  0.09498995 0.08696674 0.08017503 0.07435118 0.06930326]\n",
      "\n",
      "Невязка по методу Гауса:  7.72682523912663e-17\n"
     ]
    }
   ],
   "source": [
    "sol_Gaus = eq.Gauss_mthd()\n",
    "print('Решение уравнения методом Гауса:\\n', sol_Gaus)\n",
    "print()\n",
    "\n",
    "eps_Gaus = trd_vec_norm(sol_Gaus - sol_verefication)\n",
    "print('Невязка по методу Гауса: ', eps_Gaus)"
   ]
  },
  {
   "cell_type": "code",
   "execution_count": 89,
   "metadata": {},
   "outputs": [
    {
     "name": "stdout",
     "output_type": "stream",
     "text": [
      "Решение уравнения методом LU разложения:\n",
      " [0.79080671 0.26806589 0.18548228 0.15212351 0.13152179 0.11645515\n",
      " 0.1046237  0.09498995 0.08696674 0.08017503 0.07435118 0.06930326]\n",
      "\n",
      "Невязка по методу LU разложения:  1.0007415106216802e-16\n"
     ]
    }
   ],
   "source": [
    "sol_LU = eq.LU_mthd()\n",
    "if sol_LU is not None: \n",
    "    print('Решение уравнения методом LU разложения:\\n', sol_LU)\n",
    "    print()\n",
    "\n",
    "    eps_LU = trd_vec_norm(sol_LU - sol_verefication)\n",
    "    print('Невязка по методу LU разложения: ', eps_LU)"
   ]
  },
  {
   "cell_type": "code",
   "execution_count": 90,
   "metadata": {},
   "outputs": [
    {
     "name": "stdout",
     "output_type": "stream",
     "text": [
      "[-] Error. Sorry, this problem could not be solved by Cholesky method\n"
     ]
    }
   ],
   "source": [
    "sol_Cholesky = eq.Cholesky_mthd()\n",
    "if sol_Cholesky is not None: \n",
    "    print('Решение уравнения методом Холецкого:\\n', sol_Cholesky)\n",
    "    print()\n",
    "\n",
    "    eps_Cholesky = trd_vec_norm(sol_Cholesky - sol_verefication)\n",
    "    print('Невязка по методу Холекцого: ', eps_Cholesky)"
   ]
  },
  {
   "cell_type": "code",
   "execution_count": 91,
   "metadata": {},
   "outputs": [
    {
     "name": "stdout",
     "output_type": "stream",
     "text": [
      "Решение уравнения методом верхней релаксации:\n",
      " [0.79080697 0.26806546 0.185482   0.15212334 0.1315217  0.1164551\n",
      " 0.10462367 0.09498993 0.08696672 0.08017502 0.07435117 0.06930326]\n",
      "\n",
      "Невязка по методу верхней релаксации:  6.085531084296475e-07\n"
     ]
    }
   ],
   "source": [
    "sol_UpperRelaxation = eq.UpperRelaxation()\n",
    "print('Решение уравнения методом верхней релаксации:\\n', sol_UpperRelaxation)\n",
    "print()\n",
    "\n",
    "eps_UpperRelaxation = trd_vec_norm(sol_UpperRelaxation - sol_verefication)\n",
    "print('Невязка по методу верхней релаксации: ', eps_UpperRelaxation)"
   ]
  },
  {
   "cell_type": "code",
   "execution_count": 92,
   "metadata": {},
   "outputs": [
    {
     "name": "stdout",
     "output_type": "stream",
     "text": [
      "Решение уравнения методом Зейделя:\n",
      " [0.79080665 0.26806586 0.18548227 0.15212351 0.13152179 0.11645516\n",
      " 0.1046237  0.09498995 0.08696674 0.08017503 0.07435118 0.06930326]\n",
      "\n",
      "Невязка по методу Зейделя:  6.503438140478229e-08\n"
     ]
    }
   ],
   "source": [
    "sol_Seidel = eq.Seidel_mthd()\n",
    "print('Решение уравнения методом Зейделя:\\n', sol_Seidel)\n",
    "print()\n",
    "\n",
    "eps_Seidel = trd_vec_norm(sol_Seidel - sol_verefication)\n",
    "print('Невязка по методу Зейделя: ', eps_Seidel)"
   ]
  },
  {
   "cell_type": "markdown",
   "metadata": {},
   "source": [
    "#### Выводы:\n",
    "\n",
    "- Как видно, данную систему невозможно решить, используя метод Холецкого, так как матрица данной системы не является симметричной.\n",
    "- Как и ожидалось, прямые численные методы (Гауса и LU-разложения) дали точное решение. Их невязка составила порядка $10^{-16} - \n",
    "10^{-17}$, что можно считать за 0.\n",
    "- Итерационные методы дали приближенное решение с отличием в 7-8 знаке после запятой."
   ]
  },
  {
   "cell_type": "markdown",
   "metadata": {},
   "source": [
    "##### Степенной метод\n",
    "\n",
    "Для оценки максимального по модулю собственного числа матрицы $A$ используется так называемый степенной метод. Пусть $y_0$ -- \n",
    "произвольный ненулевой вектор, тогда $y_1 = Ay_0$, $y_2 = Ay_1$ $\\dots$ $y_{k+1} = Ay_k$. Тогда при $k \\rightarrow 0$ получим\n",
    "\n",
    "$$\\lambda = \\frac{y_{k+1}}{y_k}$$\n",
    "\n",
    "Математически обосновать это несложно, если перейти в базис собственных векторов матрицы.\n",
    "\n",
    "###### Реализации функции\n",
    "\n",
    "Поскольку в различных источниках мы видели различные описания данного метода, мы рассмотрим 3 различных варианта получения $\\lambda$:\n",
    "\n",
    "$$\\lambda = \\frac{||y_{k + 1}||}{||y_k||}$$\n",
    "$$\\lambda = \\frac{y_{k + 1}^i}{y_k^i}$$\n",
    "$$\\lambda = \\frac{(y_{k + 1}, y_k)}{(y_k, y_k)}$$"
   ]
  },
  {
   "cell_type": "code",
   "execution_count": 93,
   "metadata": {},
   "outputs": [],
   "source": [
    "def max_lambda1(matrix, initial_vector):\n",
    "    A = matrix.astype(float, copy=True)\n",
    "    y_prev = initial_vector.astype(float, copy=True)\n",
    "    y_cur = initial_vector.astype(float, copy=True)\n",
    "\n",
    "    eps = 1e-6\n",
    "    while(trd_vec_norm(np.dot(A, y_cur)) / trd_vec_norm(y_cur) - trd_vec_norm(y_cur) / trd_vec_norm(y_prev) > eps):\n",
    "        y_prev = y_cur\n",
    "        y_cur = np.dot(A, y_cur)\n",
    "\n",
    "    return trd_vec_norm(np.dot(A, y_cur)) / trd_vec_norm(y_cur)\n",
    "\n",
    "def max_lambda2(matrix, initial_vector, vec_idx=0):\n",
    "    A = matrix.astype(float, copy=True)\n",
    "    y_prev = initial_vector.astype(float, copy=True)\n",
    "    y_cur = initial_vector.astype(float, copy=True)\n",
    "\n",
    "    eps = 1e-6\n",
    "    while(np.dot(A, y_cur)[vec_idx] / y_cur[vec_idx] - y_cur[vec_idx] / y_prev[vec_idx] > eps):\n",
    "        y_prev = y_cur\n",
    "        y_cur = np.dot(A, y_cur)\n",
    "\n",
    "    return np.dot(A, y_cur)[vec_idx] / y_cur[vec_idx]\n",
    "\n",
    "def max_lambda3(matrix, initial_vector):\n",
    "    A = matrix.astype(float, copy=True)\n",
    "    y_prev = initial_vector.astype(float, copy=True)\n",
    "    y_cur = initial_vector.astype(float, copy=True)\n",
    "\n",
    "    eps = 1e-6\n",
    "    while(np.dot(np.dot(A, y_cur), y_cur) / np.dot(y_cur, y_cur) - np.dot(y_cur, y_prev) / np.dot(y_prev, y_prev) > eps):\n",
    "        y_prev = y_cur\n",
    "        y_cur = np.dot(A, y_cur)\n",
    "\n",
    "    return np.dot(np.dot(A, y_cur), y_cur) / np.dot(y_cur, y_cur)"
   ]
  },
  {
   "cell_type": "markdown",
   "metadata": {},
   "source": [
    "Найдем максимальное по модулю собственное число для предложенной в задании матрицы $A$."
   ]
  },
  {
   "cell_type": "code",
   "execution_count": 94,
   "metadata": {},
   "outputs": [
    {
     "name": "stdout",
     "output_type": "stream",
     "text": [
      "Значение максимального по модулю собственного вектора, найденной с помощью библиотечных функций\n",
      " 1.4593902294293146\n",
      "Значение максимального по модулю собственного вектора, найденной с помощью первой функции\n",
      " 1.5142380948919578\n",
      "Значение максимального по модулю собственного вектора, найденной с помощью второй функции\n",
      " 1.842389393104174\n",
      "Значение максимального по модулю собственного вектора, найденной с помощью третьей функции\n",
      " 1.5105056423737702\n"
     ]
    }
   ],
   "source": [
    "valid_lambda = max(abs(np.linalg.eigvals(A)))\n",
    "\n",
    "vec1 = max_lambda1(A, np.full(N, 1.0))\n",
    "vec2 = max_lambda2(A, np.full(N, 1.0))\n",
    "vec3 = max_lambda3(A, np.full(N, 1.0))\n",
    "\n",
    "print('Значение максимального по модулю собственного вектора, найденной с помощью библиотечных функций\\n', valid_lambda)\n",
    "print('Значение максимального по модулю собственного вектора, найденной с помощью первой функции\\n',vec1)\n",
    "print('Значение максимального по модулю собственного вектора, найденной с помощью второй функции\\n',vec2)\n",
    "print('Значение максимального по модулю собственного вектора, найденной с помощью третьей функции\\n',vec3)"
   ]
  },
  {
   "cell_type": "markdown",
   "metadata": {},
   "source": [
    "#### Выводы:\n",
    "\n",
    "Как видно, все три метода вернули значения, довольно близкие к реальному. Отличие наблюдается в первом знаке после запятой, \n",
    "одноко, с точки зрения автора, данный метод имеет недостатки и узкие места, связанные с выбором начального вектора $y$. \n",
    "\n",
    "- метод, очевидно, не будет работать, если начальный вектор будет иметь нулевую компоненту, соответствующую собственному \n",
    "вектору. \n",
    "- данный метод не рабтает, если в качестве начального вектора мы случайно выбрали собственный вектор, \n",
    "соответствующий другому собственному значению. \n",
    "- численный результат работы метода зависит от начального вектора $y$\n",
    "\n",
    "Таким образом, данный метод подходит лишь для приближенной оценки порядка $\\lambda$, но не для нахождения точного значения."
   ]
  }
 ],
 "metadata": {
  "kernelspec": {
   "display_name": "Python 3.8.10 64-bit",
   "language": "python",
   "name": "python3"
  },
  "language_info": {
   "codemirror_mode": {
    "name": "ipython",
    "version": 3
   },
   "file_extension": ".py",
   "mimetype": "text/x-python",
   "name": "python",
   "nbconvert_exporter": "python",
   "pygments_lexer": "ipython3",
   "version": "3.8.10"
  },
  "orig_nbformat": 4,
  "vscode": {
   "interpreter": {
    "hash": "916dbcbb3f70747c44a77c7bcd40155683ae19c65e1c03b4aa3499c5328201f1"
   }
  }
 },
 "nbformat": 4,
 "nbformat_minor": 2
}

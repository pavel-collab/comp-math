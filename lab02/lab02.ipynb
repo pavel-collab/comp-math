{
 "cells": [
  {
   "cell_type": "markdown",
   "metadata": {},
   "source": [
    "# Lab02"
   ]
  },
  {
   "cell_type": "code",
   "execution_count": 154,
   "metadata": {},
   "outputs": [],
   "source": [
    "import numpy as np\n",
    "import matplotlib.pyplot as plt\n",
    "import sympy as sp\n",
    "import math"
   ]
  },
  {
   "cell_type": "code",
   "execution_count": 155,
   "metadata": {},
   "outputs": [],
   "source": [
    "def fst_vec_norm(x: np.ndarray):\n",
    "    return max(abs(x))\n",
    "\n",
    "def scd_vec_norm(x: np.ndarray):\n",
    "    return sum(abs(x))\n",
    "\n",
    "def trd_vec_norm(x: np.ndarray):\n",
    "    return math.sqrt(np.dot(x, x))"
   ]
  },
  {
   "cell_type": "code",
   "execution_count": 156,
   "metadata": {},
   "outputs": [],
   "source": [
    "def fst_m_norm(A: np.ndarray):\n",
    "    assert(A.shape[0] == A.shape[1])\n",
    "    return max([sum(abs(A[i])) for i in range(A.shape[0])])\n",
    "\n",
    "def scd_m_norm(A: np.ndarray):\n",
    "    assert(A.shape[0] == A.shape[1])\n",
    "    return max([sum(abs(A.T[i])) for i in range(A.T.shape[0])])\n",
    "\n",
    "#! уточнить, как в данной работе мы ищем собственные числа\n",
    "def trd_m_norm(A: np.ndarray):\n",
    "    pass"
   ]
  },
  {
   "cell_type": "code",
   "execution_count": 157,
   "metadata": {},
   "outputs": [],
   "source": [
    "# порядок округдения коэффициентов (нужен исключительно для вывода)\n",
    "# при вычислениях коэффициенты НЕ ОКРУГЛЯЮТСЯ\n",
    "round_n = 3\n",
    "\n",
    "class Slae:\n",
    "    def __init__(self, matrix: np.ndarray, values: np.ndarray):\n",
    "\n",
    "        # проверяем, что матрица квадратная и вектор значений имеет соответсвующую размерность\n",
    "        assert(matrix.shape[0] == matrix.shape[1])\n",
    "        assert(matrix.shape[0] == values.shape[0])\n",
    "        \n",
    "        self.A = matrix\n",
    "        self.f = values\n",
    "\n",
    "    @property\n",
    "    def dimention(self):\n",
    "        return self.A.shape[0]\n",
    "\n",
    "    def check_symmetric(self, a, tol=1e-16):\n",
    "        return not False in (np.abs(self.A-self.A.T) < tol)\n",
    "\n",
    "    def Gauss_mthd(self):\n",
    "        for k in range(self.dimention):\n",
    "            for m in range(k+1, self.dimention):\n",
    "\n",
    "                alpha = self.A[m][k] / self.A[k][k]\n",
    "\n",
    "                self.f[m] = self.f[m] - self.f[k] * alpha \n",
    "                for i in range(k, self.dimention):\n",
    "                    self.A[m][i] = self.A[m][i] - self.A[k][i] * alpha\n",
    "\n",
    "\n",
    "        solution = np.full((self.dimention, ), 0.0)\n",
    "        solution[self.dimention-1] = self.f[self.dimention-1] / self.A[self.dimention-1][self.dimention-1]\n",
    "\n",
    "        for k in range(self.dimention-2, 0-1, -1):\n",
    "            solution[k] = 1 / self.A[k][k] * (self.f[k] - np.dot(self.A[k], solution))\n",
    "\n",
    "        return solution\n",
    "\n",
    "    def LU_mthd(self):\n",
    "        pass\n",
    "\n",
    "    def Holecky_mthd(self):\n",
    "        pass\n",
    "\n",
    "    def Zaydel_mthd(self):\n",
    "        pass\n",
    "\n",
    "    ## overloading output\n",
    "    def __str__(self):\n",
    "        res = ''\n",
    "        for i in range(self.A.shape[0]):\n",
    "            string = ''\n",
    "            for j in range(self.A.shape[1]):\n",
    "                string = string + str(round(self.A[i][j], round_n)) + ' x{}'.format(j + 1)\n",
    "                # string = string + str(self.A[i][j]) + ' x{}'.format(j + 1)\n",
    "                if j != self.A.shape[1] - 1:\n",
    "                    string = string + ' + '\n",
    "                else:\n",
    "                    string = string + ' = ' + str(round(self.f[i], round_n))\n",
    "                    # string = string + ' = ' + str(self.f[i])\n",
    "            string = string + '\\n'\n",
    "            res = res + string\n",
    "\n",
    "        return res"
   ]
  },
  {
   "cell_type": "code",
   "execution_count": 158,
   "metadata": {},
   "outputs": [],
   "source": [
    "N = 12\n",
    "A = np.eye(N)\n",
    "f = np.full((N, ), 1.0)\n",
    "\n",
    "\n",
    "for i in range(N):\n",
    "    for j in range(N):\n",
    "        if i == j:\n",
    "            A[i][j] = 1\n",
    "        else:\n",
    "            A[i][j] = 1 / ((i+1)**2 + (j+2))\n",
    "    f[i] = 1 / (i + 1)\n",
    "\n",
    "# eq = Slae(A, f)"
   ]
  },
  {
   "cell_type": "code",
   "execution_count": 160,
   "metadata": {},
   "outputs": [
    {
     "name": "stdout",
     "output_type": "stream",
     "text": [
      "1 x1 + 2 x2 + 1 x3 = 8\n",
      "2 x1 + 1 x2 + 2 x3 = 10\n",
      "3 x1 + 3 x2 + 1 x3 = 12\n",
      "\n",
      "1 x1 + 2 x2 + 1 x3 = 8\n",
      "0 x1 + -3 x2 + 0 x3 = -6\n",
      "0 x1 + 0 x2 + -2 x3 = -6\n",
      "\n",
      "sol =  [1. 2. 3.]\n"
     ]
    }
   ],
   "source": [
    "a = np.array([\n",
    "    [1, 2, 1],\n",
    "    [2, 1, 2],\n",
    "    [3, 3, 1]\n",
    "])\n",
    "\n",
    "f = np.array([8, 10, 12])\n",
    "\n",
    "eq = Slae(a, f)\n",
    "print(eq)\n",
    "\n",
    "\n",
    "sol = eq.Gauss_mthd()\n",
    "print(eq)\n",
    "print('sol = ', sol)"
   ]
  }
 ],
 "metadata": {
  "kernelspec": {
   "display_name": "Python 3.8.10 64-bit",
   "language": "python",
   "name": "python3"
  },
  "language_info": {
   "codemirror_mode": {
    "name": "ipython",
    "version": 3
   },
   "file_extension": ".py",
   "mimetype": "text/x-python",
   "name": "python",
   "nbconvert_exporter": "python",
   "pygments_lexer": "ipython3",
   "version": "3.8.10"
  },
  "orig_nbformat": 4,
  "vscode": {
   "interpreter": {
    "hash": "916dbcbb3f70747c44a77c7bcd40155683ae19c65e1c03b4aa3499c5328201f1"
   }
  }
 },
 "nbformat": 4,
 "nbformat_minor": 2
}

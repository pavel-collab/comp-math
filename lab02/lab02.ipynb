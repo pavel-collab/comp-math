{
 "cells": [
  {
   "cell_type": "markdown",
   "metadata": {},
   "source": [
    "# Оабораторная работа №2 по вычислительной математике\n",
    "\n",
    "## Прменение прямых и итерационных методов для решения СЛАУ\n",
    "\n",
    "### Выполнил Филиппенко Павел -- студент группы Б01-009"
   ]
  },
  {
   "cell_type": "code",
   "execution_count": 232,
   "metadata": {},
   "outputs": [],
   "source": [
    "import numpy as np\n",
    "import matplotlib.pyplot as plt\n",
    "import sympy as sp\n",
    "import math"
   ]
  },
  {
   "cell_type": "markdown",
   "metadata": {},
   "source": [
    "##### Зададим нормы векторов\n",
    "\n",
    "$$||x||_1 = max_i |x_i|$$\n",
    "\n",
    "$$||x||_2 = \\sum |x_i|$$\n",
    "\n",
    "$$||x||_2 = (x, x)$$"
   ]
  },
  {
   "cell_type": "code",
   "execution_count": 233,
   "metadata": {},
   "outputs": [],
   "source": [
    "def fst_vec_norm(x: np.ndarray):\n",
    "    return max(abs(x))\n",
    "\n",
    "def scd_vec_norm(x: np.ndarray):\n",
    "    return sum(abs(x))\n",
    "\n",
    "def trd_vec_norm(x: np.ndarray):\n",
    "    return math.sqrt(np.dot(x, x))"
   ]
  },
  {
   "cell_type": "markdown",
   "metadata": {},
   "source": [
    "##### Зададим нормы матриц\n",
    "\n",
    "(по строкам)\n",
    "$$||A||_1 = max_i \\sum_j |a_{ij}|$$\n",
    "\n",
    "(по столбцам)\n",
    "$$||A||_2 = max_j \\sum_i |a_{ij}|$$\n",
    "\n",
    "$$||A||_3 = \\sqrt{max_i \\lambda_i(A^* A)}$$\n",
    "\n",
    "Поскольку в данной работе мы рассмотриваем матрицы действительного пространства, $A^* = A^T$"
   ]
  },
  {
   "cell_type": "code",
   "execution_count": 234,
   "metadata": {},
   "outputs": [],
   "source": [
    "def fst_m_norm(A: np.ndarray):\n",
    "    assert(A.shape[0] == A.shape[1])\n",
    "    return max([sum(abs(A[i])) for i in range(A.shape[0])])\n",
    "\n",
    "def scd_m_norm(A: np.ndarray):\n",
    "    assert(A.shape[0] == A.shape[1])\n",
    "    return max([sum(abs(A.T[i])) for i in range(A.T.shape[0])])\n",
    "\n",
    "# поскольку работаем в R, эрмитово сопряжение эквивалентвно транспонированию\n",
    "def trd_m_norm(A: np.ndarray):\n",
    "    B = np.dot(A.T, A)\n",
    "    num, _ =  np.linalg.eigh(B)\n",
    "    print(num)\n",
    "    return math.sqrt(max(num))"
   ]
  },
  {
   "cell_type": "markdown",
   "metadata": {},
   "source": [
    "##### Класс Slae представляет систему линейных уравнений.\n",
    "\n",
    "_Поля_:\n",
    "- A -- матрица системы\n",
    "- f -- столбец решений\n",
    "\n",
    "_Методы_:\n",
    "- dimention -- декоратор, возвращающий порядок системы\n",
    "- check_symmetric -- проверка матрицы на симметричность\n",
    "- Gauss_mthd   -- решение системы линейных уравнений методом Гауса\n",
    "- LU_mthd      -- решение системы линейных уравнений методом LU-разложения\n",
    "- Holecky_mthd -- решение системы линейных уравнений методом Холецкого\n",
    "- Zaydel_mthd  -- решение системы линейных уравнений методом Зейделя"
   ]
  },
  {
   "cell_type": "code",
   "execution_count": 235,
   "metadata": {},
   "outputs": [],
   "source": [
    "# порядок округдения коэффициентов (нужен исключительно для вывода)\n",
    "# при вычислениях коэффициенты НЕ ОКРУГЛЯЮТСЯ\n",
    "round_n = 3\n",
    "\n",
    "class Slae:\n",
    "    def __init__(self, matrix: np.ndarray, values: np.ndarray):\n",
    "\n",
    "        # проверяем, что матрица квадратная и вектор значений имеет соответсвующую размерность\n",
    "        assert(matrix.shape[0] == matrix.shape[1])\n",
    "        assert(matrix.shape[0] == values.shape[0])\n",
    "        \n",
    "        self.A = matrix\n",
    "        self.f = values\n",
    "\n",
    "    @property\n",
    "    def dimention(self):\n",
    "        return self.A.shape[0]\n",
    "\n",
    "    def check_symmetric(self, a, tol=1e-16):\n",
    "        return not False in (np.abs(self.A-self.A.T) < tol)\n",
    "\n",
    "    def Gauss_mthd(self):\n",
    "        # размерность матрицы\n",
    "        n = self.dimention\n",
    "\n",
    "        # прямой ход метода Гауса\n",
    "        for k in range(n):\n",
    "            for m in range(k+1, n):\n",
    "\n",
    "                alpha = self.A[m][k] / self.A[k][k]\n",
    "\n",
    "                self.f[m] = self.f[m] - self.f[k] * alpha \n",
    "                for i in range(k, n):\n",
    "                    self.A[m][i] = self.A[m][i] - self.A[k][i] * alpha\n",
    "\n",
    "        # обратный ход\n",
    "        solution = np.full((n, ), 0.0)\n",
    "        \n",
    "        # поскольку индексы в python начинаются с 0 и заканчиваются n-1, последнее уравнение имеет индекс n-1\n",
    "        solution[n-1] = self.f[n-1] / self.A[n-1][n-1]\n",
    "\n",
    "        # предпоследнее уравнение имеет интекс n-2\n",
    "        # поскольку функция range возвращает полуоткрытый интервал, вторым параметром ей передаеся -1, а не 0\n",
    "        for k in range(n-2, 0-1, -1):\n",
    "            solution[k] = 1 / self.A[k][k] * (self.f[k] - np.dot(self.A[k], solution))\n",
    "\n",
    "        return solution\n",
    "\n",
    "    def LU_mthd(self):\n",
    "        pass\n",
    "\n",
    "    def Holecky_mthd(self):\n",
    "        pass\n",
    "\n",
    "    def Zaydel_mthd(self):\n",
    "        pass\n",
    "\n",
    "    ## overloading output\n",
    "    def __str__(self):\n",
    "        n = self.dimention\n",
    "\n",
    "        res = ''\n",
    "        for i in range(n):\n",
    "            string = ''\n",
    "            for j in range(n):\n",
    "                string = string + str(round(self.A[i][j], round_n)) + ' x{}'.format(j + 1)\n",
    "                # string = string + str(self.A[i][j]) + ' x{}'.format(j + 1)\n",
    "                if j != n - 1:\n",
    "                    string = string + ' + '\n",
    "                else:\n",
    "                    string = string + ' = ' + str(round(self.f[i], round_n))\n",
    "                    # string = string + ' = ' + str(self.f[i])\n",
    "            string = string + '\\n'\n",
    "            res = res + string\n",
    "\n",
    "        return res"
   ]
  },
  {
   "cell_type": "markdown",
   "metadata": {},
   "source": [
    "##### Зададим систему уравнений через матрицу и столбей решений."
   ]
  },
  {
   "cell_type": "code",
   "execution_count": 236,
   "metadata": {},
   "outputs": [],
   "source": [
    "N = 12\n",
    "A = np.eye(N)\n",
    "f = np.full((N, ), 1.0)\n",
    "\n",
    "\n",
    "for i in range(N):\n",
    "    for j in range(N):\n",
    "        if i == j:\n",
    "            A[i][j] = 1\n",
    "        else:\n",
    "            A[i][j] = 1 / ((i+1)**2 + (j+2))\n",
    "    f[i] = 1 / (i + 1)\n",
    "\n",
    "# eq = Slae(A, f)"
   ]
  }
 ],
 "metadata": {
  "kernelspec": {
   "display_name": "Python 3.8.10 64-bit",
   "language": "python",
   "name": "python3"
  },
  "language_info": {
   "codemirror_mode": {
    "name": "ipython",
    "version": 3
   },
   "file_extension": ".py",
   "mimetype": "text/x-python",
   "name": "python",
   "nbconvert_exporter": "python",
   "pygments_lexer": "ipython3",
   "version": "3.8.10"
  },
  "orig_nbformat": 4,
  "vscode": {
   "interpreter": {
    "hash": "916dbcbb3f70747c44a77c7bcd40155683ae19c65e1c03b4aa3499c5328201f1"
   }
  }
 },
 "nbformat": 4,
 "nbformat_minor": 2
}

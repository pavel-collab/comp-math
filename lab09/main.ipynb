{
 "cells": [
  {
   "cell_type": "code",
   "execution_count": 72,
   "metadata": {},
   "outputs": [],
   "source": [
    "import numpy as np\n",
    "import matplotlib.pyplot as plt\n",
    "from scipy.linalg import eigh_tridiagonal # библиотечный метод прогонки для проверки"
   ]
  },
  {
   "cell_type": "code",
   "execution_count": 73,
   "metadata": {},
   "outputs": [],
   "source": [
    "x0 = 1 / np.sqrt(3)\n",
    "\n",
    "def k(x):\n",
    "    return np.exp(-x)\n",
    "\n",
    "def q(x):\n",
    "    if (x < x0):\n",
    "        return x**3\n",
    "    else:\n",
    "        return x\n",
    "    \n",
    "def f(x):\n",
    "    if (x < x0):\n",
    "        return x**2 - 1\n",
    "    else:\n",
    "        return 1\n",
    "\n",
    "def k_diff(x):\n",
    "    return -np.exp(-x)\n",
    "\n",
    "def F(x, y):\n",
    "    u = y[0]\n",
    "    phi = y[1]\n",
    "\n",
    "    return np.array([\n",
    "        phi,\n",
    "        (q(x) - f(x) - k_diff(x)*phi) / k(x)\n",
    "    ])"
   ]
  },
  {
   "cell_type": "code",
   "execution_count": 74,
   "metadata": {},
   "outputs": [],
   "source": [
    "x_start = 0\n",
    "x_end = 1\n",
    "u_0 = 2\n",
    "u_L = 1\n",
    "\n",
    "L = 100000 # количество точек на разностной схеме\n",
    "h = (x_end - x_start) / L\n",
    "\n",
    "l_alpha = int(np.floor(x0 / h)) - 1\n",
    "l_beta = l_alpha + 1\n",
    "\n",
    "x = np.linspace(x_start, x_end, L)\n",
    "u = np.zeros(L)\n",
    "u[0] = u_0\n",
    "u[-1] = u_L"
   ]
  },
  {
   "cell_type": "code",
   "execution_count": 75,
   "metadata": {},
   "outputs": [],
   "source": [
    "# кожффициенты приведенного уравнения\n",
    "a = np.zeros(L)\n",
    "b = np.zeros(L)\n",
    "c = np.zeros(L)\n",
    "d = np.zeros(L)\n",
    "\n",
    "# прогоночные коэффициенты\n",
    "alpha = np.zeros(L)\n",
    "beta  = np.zeros(L)"
   ]
  },
  {
   "cell_type": "code",
   "execution_count": 76,
   "metadata": {},
   "outputs": [],
   "source": [
    "# l in [1, l_a - 1]\n",
    "for l in range(1, l_alpha):\n",
    "    a[l] = k((l + 0.5) * h)\n",
    "    b[l] = -( k((l + 0.5) * h) + k((l - 0.5) * h) + q(l * h) * h * h )\n",
    "    c[l] = k((l - 0.5) * h)\n",
    "    d[l] = -f(l * h) * h * h\n",
    "\n",
    "\n",
    "# l in [l_b + 1, L - 2]\n",
    "for l in range(l_beta + 1, L-1):\n",
    "    a[l] = k((l + 0.5) * h)\n",
    "    b[l] = -( k((l + 0.5) * h) + k((l - 0.5) * h) + q(l * h) * h * h )\n",
    "    c[l] = k((l - 0.5) * h)\n",
    "    d[l] = -f(l * h) * h * h"
   ]
  },
  {
   "cell_type": "code",
   "execution_count": 77,
   "metadata": {},
   "outputs": [],
   "source": [
    "'''\n",
    "L -- количество точек (включая концы)\n",
    "точки (как и все коэффициенты) нумеруются от 0 до L-1 => ласт точка имеет индекс L-1\n",
    "=> предпоследняя точка имеет индекс L-2\n",
    "прогоночные коэффициенты (как и приведенные коэффициенты уравнения) привязаны к ТОЧКАМ на отрезке (включая точки концов)\n",
    "коэффициенты, привязанные к концевым точкам нас не интересуют (мы к ним даже не образается => они остаются 0 до конца программы)\n",
    "поэтому, первый (ненулевой) коэффициент сслева alpha[1], а справа alpha[L-2]\n",
    "'''\n",
    "\n",
    "alpha[1] = -a[1] / b[1]\n",
    "beta[1]  = (d[1] - c[1] * u_0) / b[1]\n",
    "\n",
    "alpha[L - 2] = -c[L - 2] / b[L - 2]\n",
    "beta[L - 2]  = (d[L - 2] - c[L - 2] * u_L) / b[L - 2]"
   ]
  },
  {
   "cell_type": "code",
   "execution_count": 78,
   "metadata": {},
   "outputs": [],
   "source": [
    "# l in [2, l_a - 1]\n",
    "for l in range(2, l_alpha):\n",
    "    alpha[l] = -a[l] / (b[l] + c[l] * alpha[l - 1])\n",
    "    beta[l]  = (d[l] - c[l] * beta[l - 1]) / (b[l] + c[l] * alpha[l - 1])\n",
    "\n",
    "\n",
    "# l in [L - 3, l_b + 1]\n",
    "for l in range(L - 3, l_beta, -1):\n",
    "    alpha[l] = -c[l] / (b[l] + a[l] * alpha[l + 1])\n",
    "    beta[l]  = (d[l] - a[l] * beta[l + 1]) / (b[l] + a[l] * alpha[l + 1])"
   ]
  },
  {
   "cell_type": "code",
   "execution_count": 79,
   "metadata": {},
   "outputs": [],
   "source": [
    "u[l_alpha] = (k(l_alpha * h) * beta[l_alpha - 1] + k(l_beta * h) * beta[l_beta + 1]) / (k(l_alpha * h) * (1 - alpha[l_alpha - 1]) + k(l_beta * h) * (1 - alpha[l_beta + 1]))\n",
    "u[l_beta] = u[l_alpha].copy()\n",
    "\n",
    "u[l_alpha - 1] = alpha[l_alpha - 1] * u[l_alpha] + beta[l_alpha - 1]\n",
    "u[l_beta + 1] = alpha[l_beta + 1] * u[l_beta] + beta[l_beta + 1]\n",
    "\n",
    "\n",
    "for l in range(l_alpha - 1, 0, -1):\n",
    "    u[l] = alpha[l] * u[l + 1] + beta[l]\n",
    "\n",
    "for l in range(l_beta + 1, L-1):\n",
    "    u[l] = alpha[l] * u[l - 1] + beta[l]"
   ]
  },
  {
   "cell_type": "code",
   "execution_count": 80,
   "metadata": {},
   "outputs": [
    {
     "data": {
      "text/plain": [
       "<matplotlib.collections.LineCollection at 0x7f366f1e7730>"
      ]
     },
     "execution_count": 80,
     "metadata": {},
     "output_type": "execute_result"
    },
    {
     "data": {
      "image/png": "[encoded data removed]",
      "text/plain": [
       "<Figure size 432x288 with 1 Axes>"
      ]
     },
     "metadata": {
      "needs_background": "light"
     },
     "output_type": "display_data"
    }
   ],
   "source": [
    "plt.plot(x, u)\n",
    "plt.vlines(x0, min(u), max(u))"
   ]
  },
  {
   "cell_type": "code",
   "execution_count": 81,
   "metadata": {},
   "outputs": [
    {
     "data": {
      "text/plain": [
       "<matplotlib.collections.LineCollection at 0x7f366f161820>"
      ]
     },
     "execution_count": 81,
     "metadata": {},
     "output_type": "execute_result"
    },
    {
     "data": {
      "image/png": "[encoded data removed]",
      "text/plain": [
       "<Figure size 432x288 with 1 Axes>"
      ]
     },
     "metadata": {
      "needs_background": "light"
     },
     "output_type": "display_data"
    }
   ],
   "source": [
    "plt.plot(x[l_alpha-10:l_beta+10], u[l_alpha-10:l_beta+10])\n",
    "plt.vlines(x0, min(u[l_alpha-10:l_beta+10]), max(u[l_alpha-10:l_beta+10]))"
   ]
  }
 ],
 "metadata": {
  "kernelspec": {
   "display_name": "Python 3",
   "language": "python",
   "name": "python3"
  },
  "language_info": {
   "codemirror_mode": {
    "name": "ipython",
    "version": 3
   },
   "file_extension": ".py",
   "mimetype": "text/x-python",
   "name": "python",
   "nbconvert_exporter": "python",
   "pygments_lexer": "ipython3",
   "version": "3.8.10"
  },
  "orig_nbformat": 4
 },
 "nbformat": 4,
 "nbformat_minor": 2
}

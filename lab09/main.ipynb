{
 "cells": [
  {
   "attachments": {},
   "cell_type": "markdown",
   "metadata": {},
   "source": [
    "# Лабораторная работа №9 по вычислительной математике\n",
    "## Применение метода прогонки для решения краевой задачи с переменными кусочно-гладкими коэффициентами\n",
    "### Выполнил Филиппенко Павел -- студент группы Б01-009"
   ]
  },
  {
   "attachments": {},
   "cell_type": "markdown",
   "metadata": {},
   "source": [
    "Задание -- Демченко Лабораторная работа №4 Вариант 3 Задание 16"
   ]
  },
  {
   "cell_type": "code",
   "execution_count": 48,
   "metadata": {},
   "outputs": [],
   "source": [
    "import numpy as np\n",
    "import matplotlib.pyplot as plt"
   ]
  },
  {
   "attachments": {},
   "cell_type": "markdown",
   "metadata": {},
   "source": [
    "Необходимо решить уравнение с кусочно-непрерывными коэффициентами.\n",
    "$$\n",
    "\\begin{cases} \n",
    "\\frac{d}{dx}[k(x)\\frac{du}{dx}] - q(x)u = -f(x), \\\\\n",
    "u(0) = u^0, \\\\\n",
    "u(1) = u^1, \\\\\n",
    "\\end{cases} \n",
    "$$\n",
    "\n",
    "В данной задаче коэффициенты имеют одну точку разрыва 1 рода \n",
    "в координате $x_0 = \\frac{1}{\\sqrt{3}}$. В данной точке ставятся так называемые условия сопряжения:\n",
    "\n",
    "$$\n",
    "\\begin{cases}\n",
    "u |_{x = x_0 - 0} = u |_{x = x_0 + 0}, \\\\\n",
    "ku_x |_{x = x_0 - 0} = ku_x |_{x = x_0 + 0}. \n",
    "\\end{cases}\n",
    "$$"
   ]
  },
  {
   "cell_type": "code",
   "execution_count": 49,
   "metadata": {},
   "outputs": [],
   "source": [
    "x0 = 1 / np.sqrt(3)\n",
    "\n",
    "def k(x):\n",
    "    return np.exp(-x)\n",
    "\n",
    "def q(x):\n",
    "    if (x < x0):\n",
    "        return x**3\n",
    "    else:\n",
    "        return x\n",
    "    \n",
    "def f(x):\n",
    "    if (x < x0):\n",
    "        return x**2 - 1\n",
    "    else:\n",
    "        return 1"
   ]
  },
  {
   "attachments": {},
   "cell_type": "markdown",
   "metadata": {},
   "source": [
    "Несколько очевидных утверждений, которые важны для понимания программы:\n",
    "- Если на отрезке находится $L$ точек (включая концевые точки), то они делят отрезок на $L-1$ сегментов\n",
    "- Длина каждого сегмента при этом $h = (x_L - x_0)/(L-1)$\n",
    "- Нумерация точек на отрезке начинается с 0. В таком случае, индекс первой точки 0, индекс последней точки $L-1$\n",
    "- Кроме того, индекс второй точки 1, индекс предпоследней точки $L-2$"
   ]
  },
  {
   "cell_type": "code",
   "execution_count": 50,
   "metadata": {},
   "outputs": [],
   "source": [
    "# начальная и конечная координаты\n",
    "x_start = 0\n",
    "x_end = 1\n",
    "# краевые условия\n",
    "u_0 = 2\n",
    "u_L = 1\n",
    "\n",
    "L = 100000 # количество точек на разностной схеме\n",
    "h = (x_end - x_start) / (L-1) # шаг разностной схемы\n",
    "\n",
    "# пространственный диапазон точек\n",
    "x = np.linspace(x_start, x_end, L)\n",
    "# будущее решение задачи\n",
    "u = np.zeros(L)\n",
    "# задаем краевые условия\n",
    "u[0] = u_0\n",
    "u[-1] = u_L"
   ]
  },
  {
   "attachments": {},
   "cell_type": "markdown",
   "metadata": {},
   "source": [
    "Для решения данной задачи будем использовать метод встречных прогонок.\n",
    "\n",
    "Пусть точка разрыва расположена на сетке между узлами $l_\\alpha$ и $l_\\beta$. Введем обозначения:\n",
    "- $(k_\\alpha)_{l \\pm 1/2} = k_\\alpha(x_l \\pm h/2)$\n",
    "- $(k_\\beta)_{l \\pm 1/2} = k_\\beta(x_l \\pm h/2)$\n",
    "- $(q_\\alpha)_l = q_\\alpha(x_l)$\n",
    "- $(q_\\beta)_l = q_\\beta(x_l)$\n",
    "- $(f_\\alpha)_l = f_\\alpha(x_l)$\n",
    "- $(f_\\beta)_l = f_\\beta(x_l)$\n",
    "\n",
    "Разностная схема (в данном случае для участнов до и после точки разрыва имеет различный вид)\n",
    "$$\n",
    "\\left(\\frac{d}{dx}\\left[k(x)\\frac{du}{dx}\\right]\\right)_{x = x_l} \\approx \\frac{(k_\\alpha)_{l+1/2}\\displaystyle\\frac{u_{l+1} - u_l}{h} - (k_\\alpha)_{l-1/2}\\displaystyle\\frac{u_{l} - u_{l-1}}{h}}{h}, \\;\\;\\; l = \\overline{1 \\div l_\\alpha - 1}\n",
    "$$\n",
    "\n",
    "$$\n",
    "\\left(\\frac{d}{dx}\\left[k(x)\\frac{du}{dx}\\right]\\right)_{x = x_l} \\approx \\frac{(k_\\beta)_{l+1/2}\\displaystyle\\frac{u_{l+1} - u_l}{h} - (k_\\beta)_{l-1/2}\\displaystyle\\frac{u_{l} - u_{l-1}}{h}}{h}, \\;\\;\\; l = \\overline{l_\\beta + 1 \\div L - 1}\n",
    "$$"
   ]
  },
  {
   "attachments": {},
   "cell_type": "markdown",
   "metadata": {},
   "source": [
    "Подставляя разностную схему в уравнение, получим систему из $L - 3$ уравнений на $L + 1$ неизвестных\n",
    "$$\n",
    "\\begin{cases}\n",
    "\\displaystyle\\frac{(k_\\alpha)_{l+1/2}(u_{l+1} - u_l) - (k_\\alpha)_{l-1/2}(u_{l} - u_{l-1})}{h^2} - (q_\\alpha)_l u_l = -(f_\\alpha)_l, \\;\\;\\; l = \\overline{1 \\div l_\\alpha - 1}, \\\\\n",
    "\\displaystyle\\frac{(k_\\beta)_{l+1/2}(u_{l+1} - u_l) - (k_\\beta)_{l-1/2}(u_{l} - u_{l-1})}{h^2} - (q_\\beta)_l u_l = -(f_\\beta)_l, \\;\\;\\; l = \\overline{l_\\beta + 1 \\div L - 1}.\n",
    "\\end{cases}\n",
    "$$\n",
    "\n",
    "К этой системе добавим краевые условия и условия сопряжения в точке разрыва и получим систему из $L + 1$ \n",
    "уравнений на $L + 1$ неизвестных. Перегруппируем слагаемые в уравнениях -- приведем подобные\n",
    "при $u_{l+1}$, $u_l$, $u_{l-1}$. Коэффициенты при этих слагаемых обозначим соответственно $a_l$, \n",
    "$b_l$, $c_l$. Слагаемые в правых частях обозначим $d_l$. Тогда, формулы для данных коэффициентов\n",
    "примут следующий вид\n",
    "\n",
    "$$\n",
    "\\begin{cases}\n",
    "a_l = (k_\\alpha)_{l + 1/2} \\\\\n",
    "b_l = -\\left[(k_\\alpha)_{l + 1/2} + (k_\\alpha)_{l - 1/2} + (q_\\alpha)_l h^2 \\right] \\\\\n",
    "c_l = (k_\\alpha)_{l - 1/2} \\\\\n",
    "d_l = -(f_\\alpha)_l h^2 \\\\\n",
    "\\end{cases}\n",
    "\\hspace{25mm} l = \\overline{1 \\div l_\\alpha - 1}\n",
    "$$\n",
    "\n",
    "$$\n",
    "\\begin{cases}\n",
    "a_l = (k_\\beta)_{l + 1/2} \\\\\n",
    "b_l = -\\left[(k_\\beta)_{l + 1/2} + (k_\\beta)_{l - 1/2} + (q_\\beta)_l h^2\\right] \\\\\n",
    "c_l = (k_\\beta)_{l - 1/2} \\\\\n",
    "d_l = -(f_\\beta)_l h^2 \\\\\n",
    "\\end{cases}\n",
    "\\hspace{25mm} l = \\overline{l_\\beta + 1 \\div L - 1}\n",
    "$$\n",
    "\n",
    "Далее будем называть эти коэффициенты коэффициентами приведенного уравнения."
   ]
  },
  {
   "attachments": {},
   "cell_type": "markdown",
   "metadata": {},
   "source": [
    "Приведенная система имеет вид\n",
    "\n",
    "$$\n",
    "\\begin{cases}\n",
    "u_0 = u^0, \\\\\n",
    "a_l u_{l+1} + b_l u_l + c_l u_{l - 1} = d_l, \\;\\;\\;\\;\\;\\;\\;\\;\\;\\; \\overline{1 \\div l_\\alpha - 1}, \\\\\n",
    "u_{l_\\alpha} = u_{l_\\beta}, \\\\\n",
    "(k_\\alpha)_{l_\\alpha}(u_{l_\\alpha} - u_{l_\\alpha - 1}) = (k_\\beta)_{l_\\beta}(u_{l_\\beta + 1} - u_{l_\\beta}), \\\\\n",
    "a_l u_{l+1} + b_l u_l + c_l u_{l - 1} = d_l, \\;\\;\\;\\;\\;\\;\\;\\;\\;\\; \\overline{l_\\beta + 1 \\div L - 1}, \\\\\n",
    "u_L = u^1.\n",
    "\\end{cases}\n",
    "$$\n",
    "\n",
    "Приступаем к решению. Сначала делаем прямую прогонку. Из первого уравнения подставим $u_0$ во второе и из последнего $u_L$ в предпоследнее:\n",
    "\n",
    "$$\n",
    "\\begin{cases}\n",
    "u_1 \t\\;\\;\\;\\,  = \\;\\;\\;  -\\frac{a_1}{b_1} u_2 \\;\\;\\; + \\frac{d_1 - c_1 u_0}{b_1} \\;\\;\\;\\;\\;\\;\\, = \\alpha_1 u_2 + \\beta_1, \\\\\n",
    "u_{L - 1} = -\\frac{c_{L - 1}}{b_{L - 1}}u_{L - 2} + \\frac{d_{L - 1} - c_{L - 1} u_L}{b_{L - 1}} = \\alpha_{L - 1} u_{L - 2} + \\beta_{L - 1}\n",
    "\\end{cases}\n",
    "$$\n",
    "\n",
    "Рекурсивно выражая $u_{l-1}$ и $u_{l+1}$ через прогоночные коэффициенты $\\alpha_l$ и $\\beta_l$\n",
    "сведем исходную систему к системе с двудиагональной матрицей\n",
    "$$\n",
    "\\begin{cases}\n",
    "u_{l - 1} = \\alpha_{l - 1} u_l + \\beta_{l - 1}, \\;\\;\\; l = \\overline{1 \\div l_\\alpha - 1} \\\\\n",
    "u_{l + 1} = \\alpha_{l + 1} u_l + \\beta_{l + 1}, \\;\\;\\; l = \\overline{L - 1 \\div l_\\beta + 1}\n",
    "\\end{cases}\n",
    "$$\n",
    "\n",
    "Формулы для прогоночных коэффициентов:\n",
    "$$\n",
    "\\begin{cases}\n",
    "\\alpha_l = -\\displaystyle\\frac{a_l}{b_l + c_l \\alpha_{l-1}} \\\\\n",
    "\\beta_l  =  \\displaystyle\\frac{d_l - c_l \\beta_{l-1}}{b_l + c_l \\alpha_{l - 1}}\n",
    "\\end{cases}\n",
    "l = \\overline{2 \\div l_\\alpha - 1}\n",
    "$$\n",
    "\n",
    "$$\n",
    "\\begin{cases}\n",
    "\\alpha_l = -\\displaystyle\\frac{c_l}{b_l + a_l \\alpha_{l+1}} \\\\\n",
    "\\beta_l  =  \\displaystyle\\frac{d_l - a_l \\beta_{l+1}}{b_l + a_l \\alpha_{l + 1}}\n",
    "\\end{cases}\n",
    "l = \\overline{L - 2 \\div l_\\beta + 1}\n",
    "$$"
   ]
  },
  {
   "attachments": {},
   "cell_type": "markdown",
   "metadata": {},
   "source": [
    "Рассмотрим отдельно систему из уравнений с индексами $l_{\\alpha} - 1$, $l_\\alpha$, $l_\\beta$ и $l_{\\beta} + 1$.\n",
    "\n",
    "\\begin{cases}\n",
    "u_{l_\\alpha - 1} = \\alpha_{l_\\alpha - 1} u_{l_\\alpha} + \\beta_{l_\\alpha - 1} \\\\\n",
    "u_{l_\\alpha} = u_{l_\\beta} \\\\\n",
    "(k_\\alpha)_{l_\\alpha}(u_{l_\\alpha} - u_{l_\\alpha - 1}) = (k_\\beta)_{l_\\beta}(u_{l_\\beta + 1} - u_{l_\\beta}) \\\\\n",
    "u_{l_\\beta  + 1} = \\alpha_{l_\\beta  + 1} u_{l_\\beta}  + \\beta_{l_\\beta  + 1}\n",
    "\\end{cases}\n",
    "\n",
    "Решив эту систему, получим следующий результат:\n",
    "\n",
    "\\begin{cases}\n",
    "u_{l_\\alpha} = u_{l_\\beta} = \\displaystyle\\frac{(k_\\alpha)_{l_\\alpha}\\beta_{l_\\alpha - 1} + (k_\\beta)_{l_\\beta}\\beta_{l_\\beta + 1}}{(k_\\alpha)_{l_\\alpha}(1 - \\alpha_{l_\\alpha - 1}) + (k_\\beta)_{l_\\beta} (1 - \\alpha_{l_\\beta + 1})} \\\\\n",
    "u_{l_\\alpha - 1} = \\alpha_{l_\\alpha - 1} u_{l_\\alpha} + \\beta_{l_\\alpha - 1} \\\\\n",
    "u_{l_\\beta + 1} = \\alpha_{l_\\beta + 1} u_{l_\\beta} + \\beta_{l_\\beta + 1}\n",
    "\\end{cases}\n",
    "\n",
    "Этим шагом заканчивается прямая прогонка. При обратной прогонке по формулам \n",
    "$$\n",
    "\\begin{cases}\n",
    "u_{l - 1} = \\alpha_{l - 1} u_l + \\beta_{l - 1}, \\;\\;\\; l = \\overline{1 \\div l_\\alpha - 1} \\\\\n",
    "u_{l + 1} = \\alpha_{l + 1} u_l + \\beta_{l + 1}, \\;\\;\\; l = \\overline{L - 1 \\div l_\\beta + 1}\n",
    "\\end{cases}\n",
    "$$\n",
    "\n",
    "находим решение в узлах сетки, получая, таким образом, численое решение задачи."
   ]
  },
  {
   "cell_type": "code",
   "execution_count": 51,
   "metadata": {},
   "outputs": [],
   "source": [
    "# находим индексы, окружающие точку разрыва\n",
    "l_alpha = int(np.floor(x0 / h))\n",
    "l_beta = l_alpha + 1"
   ]
  },
  {
   "cell_type": "code",
   "execution_count": 52,
   "metadata": {},
   "outputs": [],
   "source": [
    "# коэффициенты приведенного уравнения\n",
    "a = np.zeros(L)\n",
    "b = np.zeros(L)\n",
    "c = np.zeros(L)\n",
    "d = np.zeros(L)\n",
    "\n",
    "# прогоночные коэффициенты\n",
    "alpha = np.zeros(L)\n",
    "beta  = np.zeros(L)"
   ]
  },
  {
   "cell_type": "code",
   "execution_count": 53,
   "metadata": {},
   "outputs": [],
   "source": [
    "# начало прямой прогонки\n",
    "# l in [1, l_a - 1]\n",
    "for l in range(1, l_alpha):\n",
    "    a[l] = k((l + 0.5) * h)\n",
    "    b[l] = -( k((l + 0.5) * h) + k((l - 0.5) * h) + q(l * h) * h * h )\n",
    "    c[l] = k((l - 0.5) * h)\n",
    "    d[l] = -f(l * h) * h * h\n",
    "\n",
    "\n",
    "# l in [l_b + 1, L - 2]\n",
    "for l in range(l_beta + 1, L-1):\n",
    "    a[l] = k((l + 0.5) * h)\n",
    "    b[l] = -( k((l + 0.5) * h) + k((l - 0.5) * h) + q(l * h) * h * h )\n",
    "    c[l] = k((l - 0.5) * h)\n",
    "    d[l] = -f(l * h) * h * h"
   ]
  },
  {
   "cell_type": "code",
   "execution_count": 54,
   "metadata": {},
   "outputs": [],
   "source": [
    "# прогоночные коэффициенты в первой и предпоследней точках\n",
    "alpha[1] = -a[1] / b[1]\n",
    "beta[1]  = (d[1] - c[1] * u_0) / b[1]\n",
    "\n",
    "alpha[L - 2] = -c[L - 2] / b[L - 2]\n",
    "beta[L - 2]  = (d[L - 2] - c[L - 2] * u_L) / b[L - 2]"
   ]
  },
  {
   "cell_type": "code",
   "execution_count": 55,
   "metadata": {},
   "outputs": [],
   "source": [
    "# l in [2, l_a - 1]\n",
    "for l in range(2, l_alpha):\n",
    "    alpha[l] = -a[l] / (b[l] + c[l] * alpha[l - 1])\n",
    "    beta[l]  = (d[l] - c[l] * beta[l - 1]) / (b[l] + c[l] * alpha[l - 1])\n",
    "\n",
    "\n",
    "# l in [L - 3, l_b + 1]\n",
    "for l in range(L - 3, l_beta, -1):\n",
    "    alpha[l] = -c[l] / (b[l] + a[l] * alpha[l + 1])\n",
    "    beta[l]  = (d[l] - a[l] * beta[l + 1]) / (b[l] + a[l] * alpha[l + 1])"
   ]
  },
  {
   "cell_type": "code",
   "execution_count": 56,
   "metadata": {},
   "outputs": [],
   "source": [
    "# результат решения системы для индексов l_alpha-1, l_alpha, l_beta, l_beta+1\n",
    "u[l_alpha] = (k(l_alpha * h) * beta[l_alpha - 1] + k(l_beta * h) * beta[l_beta + 1]) / (k(l_alpha * h) * (1 - alpha[l_alpha - 1]) + k(l_beta * h) * (1 - alpha[l_beta + 1]))\n",
    "u[l_beta] = u[l_alpha].copy()\n",
    "\n",
    "u[l_alpha - 1] = alpha[l_alpha - 1] * u[l_alpha] + beta[l_alpha - 1]\n",
    "u[l_beta + 1] = alpha[l_beta + 1] * u[l_beta] + beta[l_beta + 1]\n",
    "# конец прямой прогонки\n",
    "\n",
    "# начало обратной прогонки\n",
    "for l in range(l_alpha - 1, 0, -1):\n",
    "    u[l] = alpha[l] * u[l + 1] + beta[l]\n",
    "\n",
    "for l in range(l_beta + 1, L-1):\n",
    "    u[l] = alpha[l] * u[l - 1] + beta[l]\n",
    "# конец обратной прогонки"
   ]
  },
  {
   "cell_type": "code",
   "execution_count": 57,
   "metadata": {},
   "outputs": [
    {
     "data": {
      "text/plain": [
       "<matplotlib.collections.LineCollection at 0x7fa9bfb89610>"
      ]
     },
     "execution_count": 57,
     "metadata": {},
     "output_type": "execute_result"
    },
    {
     "data": {
      "image/png": "[encoded data removed]",
      "text/plain": [
       "<Figure size 432x288 with 1 Axes>"
      ]
     },
     "metadata": {
      "needs_background": "light"
     },
     "output_type": "display_data"
    }
   ],
   "source": [
    "plt.plot(x, u)\n",
    "plt.title(\"Численное решение\")\n",
    "plt.xlabel(\"x\")\n",
    "plt.ylabel(\"u(x)\")\n",
    "plt.grid()\n",
    "\n",
    "plt.vlines(x0, min(u), max(u)) # вертикальная линия в координате точки разрыва"
   ]
  },
  {
   "attachments": {},
   "cell_type": "markdown",
   "metadata": {},
   "source": [
    "Рассмотрим отдельно область точки разрыва."
   ]
  },
  {
   "cell_type": "code",
   "execution_count": 58,
   "metadata": {},
   "outputs": [
    {
     "data": {
      "text/plain": [
       "<matplotlib.collections.LineCollection at 0x7fa9bf96c310>"
      ]
     },
     "execution_count": 58,
     "metadata": {},
     "output_type": "execute_result"
    },
    {
     "data": {
      "image/png": "[encoded data removed]",
      "text/plain": [
       "<Figure size 432x288 with 1 Axes>"
      ]
     },
     "metadata": {
      "needs_background": "light"
     },
     "output_type": "display_data"
    }
   ],
   "source": [
    "plt.plot(x[l_alpha-10:l_beta+10], u[l_alpha-10:l_beta+10])\n",
    "plt.title(\"Численное решение\")\n",
    "plt.xlabel(\"x\")\n",
    "plt.ylabel(\"u(x)\")\n",
    "plt.grid()\n",
    "\n",
    "plt.vlines(x0, min(u[l_alpha-10:l_beta+10]), max(u[l_alpha-10:l_beta+10])) # вертикальная линия в координате точки разрыва"
   ]
  }
 ],
 "metadata": {
  "kernelspec": {
   "display_name": "Python 3",
   "language": "python",
   "name": "python3"
  },
  "language_info": {
   "codemirror_mode": {
    "name": "ipython",
    "version": 3
   },
   "file_extension": ".py",
   "mimetype": "text/x-python",
   "name": "python",
   "nbconvert_exporter": "python",
   "pygments_lexer": "ipython3",
   "version": "3.8.10"
  },
  "orig_nbformat": 4
 },
 "nbformat": 4,
 "nbformat_minor": 2
}

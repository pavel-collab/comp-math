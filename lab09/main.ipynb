{
 "cells": [
  {
   "cell_type": "code",
   "execution_count": 1,
   "metadata": {},
   "outputs": [],
   "source": [
    "import numpy as np\n",
    "import matplotlib.pyplot as plt\n",
    "from scipy.linalg import eigh_tridiagonal # библиотечный метод прогонки для проверки"
   ]
  },
  {
   "cell_type": "code",
   "execution_count": 2,
   "metadata": {},
   "outputs": [],
   "source": [
    "x0 = 1 / np.sqrt(3)\n",
    "\n",
    "def k(x):\n",
    "    return np.exp(-x)\n",
    "\n",
    "def q(x):\n",
    "    if (x < x0):\n",
    "        return x**3\n",
    "    else:\n",
    "        return x\n",
    "    \n",
    "def f(x):\n",
    "    if (x < x0):\n",
    "        return x**2 - 1\n",
    "    else:\n",
    "        return 1\n",
    "\n",
    "def k_diff(x):\n",
    "    return -np.exp(-x)\n",
    "\n",
    "def F(x, y):\n",
    "    u = y[0]\n",
    "    phi = y[1]\n",
    "\n",
    "    return np.array([\n",
    "        phi,\n",
    "        (q(x) - f(x) - k_diff(x)*phi) / k(x)\n",
    "    ])"
   ]
  },
  {
   "cell_type": "code",
   "execution_count": null,
   "metadata": {},
   "outputs": [],
   "source": [
    "x_start = 0\n",
    "x_end = 1\n",
    "u_0 = 2\n",
    "u_L = 1\n",
    "\n",
    "L = 1000 # количество точек на разностной схеме\n",
    "h = (x_end - x_start) / (L - 1) # чтобы получить L точек на отрезке (включая концы) нужно поделить отрезок на L-1"
   ]
  }
 ],
 "metadata": {
  "kernelspec": {
   "display_name": "Python 3",
   "language": "python",
   "name": "python3"
  },
  "language_info": {
   "codemirror_mode": {
    "name": "ipython",
    "version": 3
   },
   "file_extension": ".py",
   "mimetype": "text/x-python",
   "name": "python",
   "nbconvert_exporter": "python",
   "pygments_lexer": "ipython3",
   "version": "3.8.10"
  },
  "orig_nbformat": 4
 },
 "nbformat": 4,
 "nbformat_minor": 2
}

{
 "cells": [
  {
   "attachments": {},
   "cell_type": "markdown",
   "metadata": {},
   "source": [
    "# Лабораторная работа №7 по вычислительной математике\n",
    "## Применение неявных методов в решении жесткой системы дифференциальных уравнений.\n",
    "### Выполнил Филиппенко Павел -- студент группы Б01-009"
   ]
  },
  {
   "attachments": {},
   "cell_type": "markdown",
   "metadata": {},
   "source": [
    "##### Задание X.9.5"
   ]
  },
  {
   "cell_type": "code",
   "execution_count": 71,
   "metadata": {},
   "outputs": [],
   "source": [
    "import numpy as np\n",
    "import matplotlib.pyplot as plt\n",
    "from scipy.integrate import odeint\n",
    "from numba import jit\n",
    "# import scipy as sp"
   ]
  },
  {
   "attachments": {},
   "cell_type": "markdown",
   "metadata": {},
   "source": [
    "#### Электрофизиология. Уравнение Бонгоффера-Ван-дер-Поля\n",
    "\n",
    "$$\n",
    "\\begin{cases}\n",
    "y_1' = a \\left(- \\left(\\frac{y_1^3}{3} - y_1 \\right) + y_2 \\right) \\\\\n",
    "y_2' = -y_1 - b y_2 + c\n",
    "\\end{cases}\n",
    "$$\n",
    "\n",
    "$$y_1(0) = 2, ~~~ y_2(0) = 0$$\n",
    "\n",
    "В этом уравнении рассматриваются $a = 10^3$ и $a = 10^6$. Коэффициенты $c, b$ таковы, что $0 < c < 1$, $b > 0$."
   ]
  },
  {
   "cell_type": "code",
   "execution_count": 72,
   "metadata": {},
   "outputs": [],
   "source": [
    "A = 1e3\n",
    "# A = 1e6\n",
    "B = 0.5\n",
    "C = 1"
   ]
  },
  {
   "cell_type": "code",
   "execution_count": 73,
   "metadata": {},
   "outputs": [],
   "source": [
    "def f1(y1, y2):\n",
    "    return A * (-(y1**3 / 3 - y1) + y2)\n",
    "\n",
    "def f2(y1, y2):\n",
    "    return -y1 -B*y2 + C\n",
    "\n",
    "def F(y):\n",
    "    y1 = y[0]\n",
    "    y2 = y[1]\n",
    "    return np.array([\n",
    "        f1(y1, y2),\n",
    "        f2(y1, y2)\n",
    "    ])"
   ]
  },
  {
   "cell_type": "code",
   "execution_count": 74,
   "metadata": {},
   "outputs": [],
   "source": [
    "# коэффициенты для трехстадийного метода Розенброка\n",
    "a  = 0.435866521508\n",
    "p1 = 0.435866521508\n",
    "p2 = 0.478240833275\n",
    "p3 = 0.085892645217\n",
    "beta21 = 0.435866521508\n",
    "beta31 = 0.435866521508\n",
    "beta32 = -2.116053335950"
   ]
  },
  {
   "cell_type": "code",
   "execution_count": 75,
   "metadata": {},
   "outputs": [],
   "source": [
    "@jit\n",
    "def J(yn, h):\n",
    "    y1n = yn[0]\n",
    "    y2n = yn[1]\n",
    "\n",
    "    df1dx1 = (f1(y1n + h, y2n) - f1(y1n - h, y2n)) / (2*h)\n",
    "    df1dx2 = (f1(y1n, y2n + h) - f1(y1n, y2n - h)) / (2*h)\n",
    "    df2dx1 = (f2(y1n + h, y2n) - f2(y1n - h, y2n)) / (2*h)\n",
    "    df2dx2 = (f2(y1n, y2n + h) - f2(y1n, y2n - h)) / (2*h)\n",
    "\n",
    "    res = np.array([\n",
    "        [df1dx1, df1dx2],\n",
    "        [df2dx1, df2dx2]\n",
    "    ])\n",
    "    return res\n",
    "\n",
    "@jit\n",
    "def Dn(yn, h):\n",
    "    E = np.eye(2)\n",
    "    return E + a * h * J(yn, h/10)"
   ]
  },
  {
   "cell_type": "code",
   "execution_count": 76,
   "metadata": {},
   "outputs": [],
   "source": [
    "# исходники для решения СЛАУ\n",
    "import SlaeAPI"
   ]
  },
  {
   "cell_type": "code",
   "execution_count": 91,
   "metadata": {},
   "outputs": [],
   "source": [
    "#! need to rename this function\n",
    "def Solution(f, h, t_start, t_end, initial_solution: tuple):\n",
    "    t = np.linspace(t_start, t_end, int((t_end-t_start)/h+1))\n",
    "    solution = np.zeros((int((t_end-t_start)/h+1), 2))\n",
    "    solution[0] = initial_solution\n",
    "    \n",
    "    for i in range(len(t)-1):\n",
    "        # составляем СЛАУ\n",
    "        slae1 = SlaeAPI.Slae(Dn(solution[i], h), h*f(solution[i]))\n",
    "        k1 = slae1.Gauss_mthd()\n",
    "        slae2 = SlaeAPI.Slae(Dn(solution[i], h), h*f(solution[i] + beta21*k1))\n",
    "        k2 = slae2.Gauss_mthd()\n",
    "        slae3 = SlaeAPI.Slae(Dn(solution[i], h), h*f(solution[i] + beta31*k1 + beta32*k2))\n",
    "        k3 = slae3.Gauss_mthd()\n",
    "        # получаем y_{n+1}\n",
    "        solution[i+1] = solution[i] + p1*k1 + p2*k2 + p3*k3\n",
    "    return solution"
   ]
  },
  {
   "cell_type": "code",
   "execution_count": 94,
   "metadata": {},
   "outputs": [],
   "source": [
    "# h = 0.1\n",
    "# init_sol = np.array([2, 0])\n",
    "# t_start = 0\n",
    "# t_end = 100\n",
    "\n",
    "# sol = Solution(F, h, t_start, t_end, init_sol)\n",
    "# y1, y2 = sol.T\n",
    "# t = np.linspace(t_start, t_end, int((t_end-t_start)/h+1))"
   ]
  },
  {
   "cell_type": "code",
   "execution_count": 98,
   "metadata": {},
   "outputs": [],
   "source": [
    "e = 8.6\n",
    "def fq(y):\n",
    "    x = y[0]\n",
    "    z = y[1]\n",
    "    return np.array([z, e * (1 - x**2) * z - x])"
   ]
  },
  {
   "cell_type": "code",
   "execution_count": 105,
   "metadata": {},
   "outputs": [],
   "source": [
    "h = 0.0001\n",
    "init_sol = np.array([2, 0])\n",
    "t_start = 0\n",
    "t_end = 100\n",
    "\n",
    "sol = Solution(fq, h, t_start, t_end, init_sol)\n",
    "x, z = sol.T\n",
    "t = np.linspace(t_start, t_end, int((t_end-t_start)/h+1))"
   ]
  },
  {
   "cell_type": "code",
   "execution_count": 106,
   "metadata": {},
   "outputs": [
    {
     "data": {
      "text/plain": [
       "Text(0, 0.5, 'y2')"
      ]
     },
     "execution_count": 106,
     "metadata": {},
     "output_type": "execute_result"
    },
    {
     "data": {
      "image/png": "[encoded data removed]",
      "text/plain": [
       "<Figure size 1152x432 with 2 Axes>"
      ]
     },
     "metadata": {
      "needs_background": "light"
     },
     "output_type": "display_data"
    }
   ],
   "source": [
    "fig = plt.figure(figsize=(16, 6))\n",
    "\n",
    "plt.subplot(1, 2, 1)\n",
    "plt.plot(t, z)\n",
    "# plt.scatter(t, y2)\n",
    "plt.title('Решение уравнения')\n",
    "plt.xlabel('t')\n",
    "plt.ylabel('y2')\n",
    "\n",
    "plt.subplot(1, 2, 2)\n",
    "plt.plot(x, z)\n",
    "plt.title('Фазовая траектория')\n",
    "plt.xlabel('y1')\n",
    "plt.ylabel('y2')"
   ]
  }
 ],
 "metadata": {
  "kernelspec": {
   "display_name": "Python 3",
   "language": "python",
   "name": "python3"
  },
  "language_info": {
   "codemirror_mode": {
    "name": "ipython",
    "version": 3
   },
   "file_extension": ".py",
   "mimetype": "text/x-python",
   "name": "python",
   "nbconvert_exporter": "python",
   "pygments_lexer": "ipython3",
   "version": "3.8.10"
  },
  "orig_nbformat": 4,
  "vscode": {
   "interpreter": {
    "hash": "916dbcbb3f70747c44a77c7bcd40155683ae19c65e1c03b4aa3499c5328201f1"
   }
  }
 },
 "nbformat": 4,
 "nbformat_minor": 2
}
